{
 "cells": [
  {
   "cell_type": "markdown",
   "id": "395e12cb3b17402e932ac86f0ebee0a4",
   "metadata": {},
   "source": [
    "MLSQL快速入门\n",
    "----\n",
    "\n",
    "MLSQL 致力于为数据平台提供 **低门槛的机器学习开发和使用**，允许用户 **以 SQL 的形式** 使用机器学习算法进行 模型训练、预测等功能，并提供统一的自定义算法的开发。\n",
    "\n",
    "接下来以 **鸢尾花分类为例**（使用逻辑回归算法，根据鸢尾花的花瓣、花萼大小，判断其种类 ），快速了解 MLSQL 的核心用法。  \n",
    "\n",
    "> 鸢尾花有3种类别：setosa、versicolor、virginica\n",
    "\n",
    "\n",
    "- Iris setosa\n",
    "<img src=\"https://upload.wikimedia.org/wikipedia/commons/thumb/5/56/Kosaciec_szczecinkowaty_Iris_setosa.jpg/900px-Kosaciec_szczecinkowaty_Iris_setosa.jpg\" width = \"8%\" /> \n",
    "\n",
    "- Iris versicolor\n",
    "<img src=\"https://upload.wikimedia.org/wikipedia/commons/4/41/Iris_versicolor_3.jpg\" width = \"10%\" /> \n",
    "\n",
    "- virginica\n",
    "<img src=\"https://upload.wikimedia.org/wikipedia/commons/thumb/9/9f/Iris_virginica.jpg/440px-Iris_virginica.jpg\" width = \"10%\" />  \n",
    "\n",
    "\n",
    "\n",
    "### 1. 准备样本\n",
    "基于公开的 [安德森鸢尾花卉数据集](https://zh.wikipedia.org/wiki/%E5%AE%89%E5%BE%B7%E6%A3%AE%E9%B8%A2%E5%B0%BE%E8%8A%B1%E5%8D%89%E6%95%B0%E6%8D%AE%E9%9B%86)创建一个结果表 591_iris_sample_queryset，用作模型训练的样本。\n",
    "\n",
    "注：请修改该笔记中存在名称冲突的查询结果集、模型名称，例如将 591_iris_sample_queryset 改成 591_iris_sample_queryset100"
   ]
  },
  {
   "cell_type": "code",
   "execution_count": 1,
   "id": "5531a49035454280880a79f038dd1118",
   "metadata": {
    "ExecuteTime": {
     "end_time": "2020-12-01T06:54:40.278449Z",
     "start_time": "2020-12-01T06:54:35.554118Z"
    }
   },
   "outputs": [
    {
     "data": {
      "text/plain": [
       "'创建成功'"
      ]
     },
     "execution_count": 1,
     "metadata": {},
     "output_type": "execute_result"
    }
   ],
   "source": [
    "%%bksql\n",
    "create table 591_iris_sample_queryset as select sepal_length, sepal_width, petal_width, petal_length, species \n",
    "FROM `591_iris_sample`.`hdfs`\n",
    "WHERE `thedate` = '20201127'\n",
    "LIMIT 150 "
   ]
  },
  {
   "cell_type": "markdown",
   "id": "8d93129a8dca44d0874213d5a4661c49",
   "metadata": {},
   "source": [
    "查询刚创建的查询结果集，在下图中看到模型训练需要的 **特征** 和 **标签**\n",
    "\n",
    "- 特征：sepal_length（花萼长度）, sepal_width（花萼宽度）, petal_width（花瓣宽度）, petal_length（花瓣长度）\n",
    "- 标签： species（鸢尾花的属种）\n",
    "\n",
    "从气泡图可以看出三种花的分布：setosa 位于左下角，versicolor 在中间，virginica 位于右上角。"
   ]
  },
  {
   "cell_type": "code",
   "execution_count": 2,
   "id": "b853d351c78f4e8498b353352b51335c",
   "metadata": {
    "ExecuteTime": {
     "end_time": "2020-12-04T09:56:09.769835Z",
     "start_time": "2020-12-04T09:56:03.071694Z"
    }
   },
   "outputs": [
    {
     "name": "stdout",
     "output_type": "stream",
     "text": [
      "页面最多展示100条数据，请将结果集赋值给变量进行处理，示例：result = _\n"
     ]
    },
    {
     "data": {
      "bk_chart": "query_table",
      "chart_config": "{\"bkChartsActiveTabIndex\":4,\"bkChartsFormData\":{\"chartType\":\"bubble\",\"yField\":\"petal_width\",\"xField\":\"petal_length\",\"groupBy\":\"species\",\"title\":\"\",\"xTitle\":\"petal_length\",\"yTitle\":\"petal_width\",\"order\":\"none\",\"size\":\"\"},\"cachedCfg\":{\"4\":{\"chartType\":\"bubble\",\"yField\":\"petal_width\",\"xField\":\"petal_length\",\"groupBy\":\"species\",\"title\":\"\",\"xTitle\":\"petal_length\",\"yTitle\":\"petal_width\",\"order\":\"none\",\"size\":\"\"}}}",
      "list": "[{\"_rownum\":1,\"petal_length\":3.0,\"petal_width\":1.1,\"sepal_length\":5.1,\"sepal_width\":2.5,\"species\":\"versicolor\"},{\"_rownum\":2,\"petal_length\":3.5,\"petal_width\":1.0,\"sepal_length\":5.0,\"sepal_width\":2.0,\"species\":\"versicolor\"},{\"_rownum\":3,\"petal_length\":3.5,\"petal_width\":1.0,\"sepal_length\":5.7,\"sepal_width\":2.6,\"species\":\"versicolor\"},{\"_rownum\":4,\"petal_length\":4.5,\"petal_width\":1.3,\"sepal_length\":5.7,\"sepal_width\":2.8,\"species\":\"versicolor\"},{\"_rownum\":5,\"petal_length\":5.0,\"petal_width\":2.0,\"sepal_length\":5.7,\"sepal_width\":2.5,\"species\":\"virginica\"},{\"_rownum\":6,\"petal_length\":5.0,\"petal_width\":1.5,\"sepal_length\":6.0,\"sepal_width\":2.2,\"species\":\"virginica\"},{\"_rownum\":7,\"petal_length\":5.0,\"petal_width\":1.7,\"sepal_length\":6.7,\"sepal_width\":3.0,\"species\":\"versicolor\"},{\"_rownum\":8,\"petal_length\":5.0,\"petal_width\":1.9,\"sepal_length\":6.3,\"sepal_width\":2.5,\"species\":\"virginica\"},{\"_rownum\":9,\"petal_length\":5.5,\"petal_width\":2.1,\"sepal_length\":6.8,\"sepal_width\":3.0,\"species\":\"virginica\"},{\"_rownum\":10,\"petal_length\":5.5,\"petal_width\":1.8,\"sepal_length\":6.5,\"sepal_width\":3.0,\"species\":\"virginica\"},{\"_rownum\":11,\"petal_length\":5.5,\"petal_width\":1.8,\"sepal_length\":6.4,\"sepal_width\":3.1,\"species\":\"virginica\"},{\"_rownum\":12,\"petal_length\":6.0,\"petal_width\":2.5,\"sepal_length\":6.3,\"sepal_width\":3.3,\"species\":\"virginica\"},{\"_rownum\":13,\"petal_length\":6.0,\"petal_width\":1.8,\"sepal_length\":7.2,\"sepal_width\":3.2,\"species\":\"virginica\"},{\"_rownum\":14,\"petal_length\":1.0,\"petal_width\":0.2,\"sepal_length\":4.6,\"sepal_width\":3.6,\"species\":\"setosa\"},{\"_rownum\":15,\"petal_length\":1.5,\"petal_width\":0.3,\"sepal_length\":5.1,\"sepal_width\":3.8,\"species\":\"setosa\"},{\"_rownum\":16,\"petal_length\":1.5,\"petal_width\":0.1,\"sepal_length\":4.9,\"sepal_width\":3.1,\"species\":\"setosa\"},{\"_rownum\":17,\"petal_length\":1.5,\"petal_width\":0.1,\"sepal_length\":5.2,\"sepal_width\":4.1,\"species\":\"setosa\"},{\"_rownum\":18,\"petal_length\":1.5,\"petal_width\":0.1,\"sepal_length\":4.9,\"sepal_width\":3.1,\"species\":\"setosa\"},{\"_rownum\":19,\"petal_length\":1.5,\"petal_width\":0.1,\"sepal_length\":4.9,\"sepal_width\":3.1,\"species\":\"setosa\"},{\"_rownum\":20,\"petal_length\":4.0,\"petal_width\":1.3,\"sepal_length\":5.5,\"sepal_width\":2.5,\"species\":\"versicolor\"},{\"_rownum\":21,\"petal_length\":4.5,\"petal_width\":1.5,\"sepal_length\":6.4,\"sepal_width\":3.2,\"species\":\"versicolor\"},{\"_rownum\":22,\"petal_length\":4.5,\"petal_width\":1.5,\"sepal_length\":5.6,\"sepal_width\":3.0,\"species\":\"versicolor\"},{\"_rownum\":23,\"petal_length\":4.5,\"petal_width\":1.5,\"sepal_length\":6.2,\"sepal_width\":2.2,\"species\":\"versicolor\"},{\"_rownum\":24,\"petal_length\":4.5,\"petal_width\":1.5,\"sepal_length\":6.0,\"sepal_width\":2.9,\"species\":\"versicolor\"},{\"_rownum\":25,\"petal_length\":4.5,\"petal_width\":1.5,\"sepal_length\":5.4,\"sepal_width\":3.0,\"species\":\"versicolor\"},{\"_rownum\":26,\"petal_length\":4.5,\"petal_width\":1.7,\"sepal_length\":4.9,\"sepal_width\":2.5,\"species\":\"virginica\"},{\"_rownum\":27,\"petal_length\":4.5,\"petal_width\":1.6,\"sepal_length\":6.0,\"sepal_width\":3.4,\"species\":\"versicolor\"},{\"_rownum\":28,\"petal_length\":4.0,\"petal_width\":1.0,\"sepal_length\":6.0,\"sepal_width\":2.2,\"species\":\"versicolor\"},{\"_rownum\":29,\"petal_length\":4.0,\"petal_width\":1.2,\"sepal_length\":5.8,\"sepal_width\":2.6,\"species\":\"versicolor\"},{\"_rownum\":30,\"petal_length\":4.0,\"petal_width\":1.3,\"sepal_length\":5.5,\"sepal_width\":2.3,\"species\":\"versicolor\"},{\"_rownum\":31,\"petal_length\":4.0,\"petal_width\":1.3,\"sepal_length\":6.1,\"sepal_width\":2.8,\"species\":\"versicolor\"},{\"_rownum\":32,\"petal_length\":1.4,\"petal_width\":0.2,\"sepal_length\":4.4,\"sepal_width\":2.9,\"species\":\"setosa\"},{\"_rownum\":33,\"petal_length\":1.4,\"petal_width\":0.2,\"sepal_length\":5.2,\"sepal_width\":3.4,\"species\":\"setosa\"},{\"_rownum\":34,\"petal_length\":1.4,\"petal_width\":0.2,\"sepal_length\":5.5,\"sepal_width\":4.2,\"species\":\"setosa\"},{\"_rownum\":35,\"petal_length\":1.4,\"petal_width\":0.2,\"sepal_length\":4.6,\"sepal_width\":3.2,\"species\":\"setosa\"},{\"_rownum\":36,\"petal_length\":1.4,\"petal_width\":0.2,\"sepal_length\":5.0,\"sepal_width\":3.3,\"species\":\"setosa\"},{\"_rownum\":37,\"petal_length\":1.9,\"petal_width\":0.2,\"sepal_length\":4.8,\"sepal_width\":3.4,\"species\":\"setosa\"},{\"_rownum\":38,\"petal_length\":1.9,\"petal_width\":0.4,\"sepal_length\":5.1,\"sepal_width\":3.8,\"species\":\"setosa\"},{\"_rownum\":39,\"petal_length\":3.7,\"petal_width\":1.0,\"sepal_length\":5.5,\"sepal_width\":2.4,\"species\":\"versicolor\"},{\"_rownum\":40,\"petal_length\":4.4,\"petal_width\":1.2,\"sepal_length\":5.5,\"sepal_width\":2.6,\"species\":\"versicolor\"},{\"_rownum\":41,\"petal_length\":4.4,\"petal_width\":1.4,\"sepal_length\":6.7,\"sepal_width\":3.1,\"species\":\"versicolor\"},{\"_rownum\":42,\"petal_length\":4.4,\"petal_width\":1.4,\"sepal_length\":6.6,\"sepal_width\":3.0,\"species\":\"versicolor\"},{\"_rownum\":43,\"petal_length\":4.4,\"petal_width\":1.3,\"sepal_length\":6.3,\"sepal_width\":2.3,\"species\":\"versicolor\"},{\"_rownum\":44,\"petal_length\":4.9,\"petal_width\":2.0,\"sepal_length\":5.6,\"sepal_width\":2.8,\"species\":\"virginica\"},{\"_rownum\":45,\"petal_length\":4.9,\"petal_width\":1.5,\"sepal_length\":6.9,\"sepal_width\":3.1,\"species\":\"versicolor\"},{\"_rownum\":46,\"petal_length\":4.9,\"petal_width\":1.5,\"sepal_length\":6.3,\"sepal_width\":2.5,\"species\":\"versicolor\"},{\"_rownum\":47,\"petal_length\":4.9,\"petal_width\":1.8,\"sepal_length\":6.3,\"sepal_width\":2.7,\"species\":\"virginica\"},{\"_rownum\":48,\"petal_length\":4.9,\"petal_width\":1.8,\"sepal_length\":6.1,\"sepal_width\":3.0,\"species\":\"virginica\"},{\"_rownum\":49,\"petal_length\":5.4,\"petal_width\":2.3,\"sepal_length\":6.2,\"sepal_width\":3.4,\"species\":\"virginica\"},{\"_rownum\":50,\"petal_length\":5.4,\"petal_width\":2.1,\"sepal_length\":6.9,\"sepal_width\":3.1,\"species\":\"virginica\"},{\"_rownum\":51,\"petal_length\":5.9,\"petal_width\":2.3,\"sepal_length\":6.8,\"sepal_width\":3.2,\"species\":\"virginica\"},{\"_rownum\":52,\"petal_length\":5.9,\"petal_width\":2.1,\"sepal_length\":7.1,\"sepal_width\":3.0,\"species\":\"virginica\"},{\"_rownum\":53,\"petal_length\":6.4,\"petal_width\":2.0,\"sepal_length\":7.9,\"sepal_width\":3.8,\"species\":\"virginica\"},{\"_rownum\":54,\"petal_length\":6.9,\"petal_width\":2.3,\"sepal_length\":7.7,\"sepal_width\":2.6,\"species\":\"virginica\"},{\"_rownum\":55,\"petal_length\":1.1,\"petal_width\":0.1,\"sepal_length\":4.3,\"sepal_width\":3.0,\"species\":\"setosa\"},{\"_rownum\":56,\"petal_length\":1.6,\"petal_width\":0.6,\"sepal_length\":5.0,\"sepal_width\":3.5,\"species\":\"setosa\"},{\"_rownum\":57,\"petal_length\":1.6,\"petal_width\":0.2,\"sepal_length\":4.8,\"sepal_width\":3.4,\"species\":\"setosa\"},{\"_rownum\":58,\"petal_length\":1.6,\"petal_width\":0.2,\"sepal_length\":5.0,\"sepal_width\":3.0,\"species\":\"setosa\"},{\"_rownum\":59,\"petal_length\":1.6,\"petal_width\":0.2,\"sepal_length\":4.7,\"sepal_width\":3.2,\"species\":\"setosa\"},{\"_rownum\":60,\"petal_length\":1.6,\"petal_width\":0.2,\"sepal_length\":4.8,\"sepal_width\":3.1,\"species\":\"setosa\"},{\"_rownum\":61,\"petal_length\":1.6,\"petal_width\":0.2,\"sepal_length\":5.1,\"sepal_width\":3.8,\"species\":\"setosa\"},{\"_rownum\":62,\"petal_length\":1.6,\"petal_width\":0.4,\"sepal_length\":5.0,\"sepal_width\":3.4,\"species\":\"setosa\"},{\"_rownum\":63,\"petal_length\":3.6,\"petal_width\":1.3,\"sepal_length\":5.6,\"sepal_width\":2.9,\"species\":\"versicolor\"},{\"_rownum\":64,\"petal_length\":1.5,\"petal_width\":0.2,\"sepal_length\":4.6,\"sepal_width\":3.1,\"species\":\"setosa\"},{\"_rownum\":65,\"petal_length\":1.5,\"petal_width\":0.2,\"sepal_length\":5.0,\"sepal_width\":3.4,\"species\":\"setosa\"},{\"_rownum\":66,\"petal_length\":1.5,\"petal_width\":0.2,\"sepal_length\":5.4,\"sepal_width\":3.7,\"species\":\"setosa\"},{\"_rownum\":67,\"petal_length\":1.5,\"petal_width\":0.2,\"sepal_length\":5.2,\"sepal_width\":3.5,\"species\":\"setosa\"},{\"_rownum\":68,\"petal_length\":1.5,\"petal_width\":0.2,\"sepal_length\":5.1,\"sepal_width\":3.4,\"species\":\"setosa\"},{\"_rownum\":69,\"petal_length\":1.5,\"petal_width\":0.2,\"sepal_length\":5.3,\"sepal_width\":3.7,\"species\":\"setosa\"},{\"_rownum\":70,\"petal_length\":1.5,\"petal_width\":0.4,\"sepal_length\":5.7,\"sepal_width\":4.4,\"species\":\"setosa\"},{\"_rownum\":71,\"petal_length\":1.5,\"petal_width\":0.4,\"sepal_length\":5.1,\"sepal_width\":3.7,\"species\":\"setosa\"},{\"_rownum\":72,\"petal_length\":1.5,\"petal_width\":0.4,\"sepal_length\":5.4,\"sepal_width\":3.4,\"species\":\"setosa\"},{\"_rownum\":73,\"petal_length\":3.9,\"petal_width\":1.2,\"sepal_length\":5.8,\"sepal_width\":2.7,\"species\":\"versicolor\"},{\"_rownum\":74,\"petal_length\":3.9,\"petal_width\":1.4,\"sepal_length\":5.2,\"sepal_width\":2.7,\"species\":\"versicolor\"},{\"_rownum\":75,\"petal_length\":3.9,\"petal_width\":1.1,\"sepal_length\":5.6,\"sepal_width\":2.5,\"species\":\"versicolor\"},{\"_rownum\":76,\"petal_length\":4.3,\"petal_width\":1.3,\"sepal_length\":6.4,\"sepal_width\":2.9,\"species\":\"versicolor\"},{\"_rownum\":77,\"petal_length\":4.3,\"petal_width\":1.3,\"sepal_length\":6.2,\"sepal_width\":2.9,\"species\":\"versicolor\"},{\"_rownum\":78,\"petal_length\":4.8,\"petal_width\":1.4,\"sepal_length\":6.8,\"sepal_width\":2.8,\"species\":\"versicolor\"},{\"_rownum\":79,\"petal_length\":4.8,\"petal_width\":1.8,\"sepal_length\":5.9,\"sepal_width\":3.2,\"species\":\"versicolor\"},{\"_rownum\":80,\"petal_length\":4.8,\"petal_width\":1.8,\"sepal_length\":6.2,\"sepal_width\":2.8,\"species\":\"virginica\"},{\"_rownum\":81,\"petal_length\":4.8,\"petal_width\":1.8,\"sepal_length\":6.0,\"sepal_width\":3.0,\"species\":\"virginica\"},{\"_rownum\":82,\"petal_length\":5.3,\"petal_width\":2.3,\"sepal_length\":6.4,\"sepal_width\":3.2,\"species\":\"virginica\"},{\"_rownum\":83,\"petal_length\":5.3,\"petal_width\":1.9,\"sepal_length\":6.4,\"sepal_width\":2.7,\"species\":\"virginica\"},{\"_rownum\":84,\"petal_length\":5.8,\"petal_width\":2.2,\"sepal_length\":6.5,\"sepal_width\":3.0,\"species\":\"virginica\"},{\"_rownum\":85,\"petal_length\":5.8,\"petal_width\":1.6,\"sepal_length\":7.2,\"sepal_width\":3.0,\"species\":\"virginica\"},{\"_rownum\":86,\"petal_length\":5.8,\"petal_width\":1.8,\"sepal_length\":6.7,\"sepal_width\":2.5,\"species\":\"virginica\"},{\"_rownum\":87,\"petal_length\":6.3,\"petal_width\":1.8,\"sepal_length\":7.3,\"sepal_width\":2.9,\"species\":\"virginica\"},{\"_rownum\":88,\"petal_length\":1.2,\"petal_width\":0.2,\"sepal_length\":5.8,\"sepal_width\":4.0,\"species\":\"setosa\"},{\"_rownum\":89,\"petal_length\":1.2,\"petal_width\":0.2,\"sepal_length\":5.0,\"sepal_width\":3.2,\"species\":\"setosa\"},{\"_rownum\":90,\"petal_length\":1.7,\"petal_width\":0.5,\"sepal_length\":5.1,\"sepal_width\":3.3,\"species\":\"setosa\"},{\"_rownum\":91,\"petal_length\":1.7,\"petal_width\":0.3,\"sepal_length\":5.7,\"sepal_width\":3.8,\"species\":\"setosa\"},{\"_rownum\":92,\"petal_length\":1.7,\"petal_width\":0.2,\"sepal_length\":5.4,\"sepal_width\":3.4,\"species\":\"setosa\"},{\"_rownum\":93,\"petal_length\":1.7,\"petal_width\":0.4,\"sepal_length\":5.4,\"sepal_width\":3.9,\"species\":\"setosa\"},{\"_rownum\":94,\"petal_length\":3.3,\"petal_width\":1.0,\"sepal_length\":4.9,\"sepal_width\":2.4,\"species\":\"versicolor\"},{\"_rownum\":95,\"petal_length\":3.3,\"petal_width\":1.0,\"sepal_length\":5.0,\"sepal_width\":2.3,\"species\":\"versicolor\"},{\"_rownum\":96,\"petal_length\":3.8,\"petal_width\":1.1,\"sepal_length\":5.5,\"sepal_width\":2.4,\"species\":\"versicolor\"},{\"_rownum\":97,\"petal_length\":4.1,\"petal_width\":1.0,\"sepal_length\":5.8,\"sepal_width\":2.7,\"species\":\"versicolor\"},{\"_rownum\":98,\"petal_length\":4.1,\"petal_width\":1.3,\"sepal_length\":5.6,\"sepal_width\":3.0,\"species\":\"versicolor\"},{\"_rownum\":99,\"petal_length\":4.1,\"petal_width\":1.3,\"sepal_length\":5.7,\"sepal_width\":2.8,\"species\":\"versicolor\"},{\"_rownum\":100,\"petal_length\":4.6,\"petal_width\":1.5,\"sepal_length\":6.5,\"sepal_width\":2.8,\"species\":\"versicolor\"}]",
      "select_fields_order": "[\"sepal_length\",\"sepal_width\",\"petal_width\",\"petal_length\",\"species\"]"
     },
     "execution_count": 2,
     "metadata": {},
     "output_type": "execute_result"
    }
   ],
   "source": [
    "%%bksql\n",
    "select sepal_length, sepal_width, petal_width, petal_length, species\n",
    "FROM 591_iris_sample_queryset\n",
    "limit 150"
   ]
  },
  {
   "cell_type": "markdown",
   "id": "24ac2ab2d80a45ba884a57f613c5a309",
   "metadata": {},
   "source": [
    "### 2. 数据处理与特征工程：将字符串转为 double （可选）\n",
    "由于该样本中的标签列（species）的字段类型是 `字符串`，需要使用`特征转换`将其转换为模型训练需要的 `double` 类型；\n",
    "\n",
    "> 在 MLSQL 中，有些特征处理的算法需要创建 model，模型发布时包含该特征转换的 model。\n",
    "\n",
    "使用 string_indexer 特征处理算法（参考平台帮助文档），将 species 列的值（字符串）转换为 double 类型的值，并命名为 `species_num`。\n",
    "\n",
    "接下来使用 train model 语法，构建特征转换的 model。"
   ]
  },
  {
   "cell_type": "code",
   "execution_count": 3,
   "id": "66c4fadfd33b44659f2e24a9702d09dc",
   "metadata": {
    "ExecuteTime": {
     "end_time": "2020-12-01T01:49:43.289391Z",
     "start_time": "2020-12-01T01:49:14.434199Z"
    }
   },
   "outputs": [
    {
     "name": "stdout",
     "output_type": "stream",
     "text": [
      "{'bk_status': [{'stage_status': 'pending', 'time_taken': 0, 'stage_type': 'parse', 'description': 'SQL解析', 'stage_seq': 1}, {'stage_status': 'pending', 'time_taken': 0, 'stage_type': 'submit', 'description': '提交任务', 'stage_seq': 2}, {'stage_status': 'pending', 'time_taken': 0, 'stage_type': 'execute', 'description': '任务执行', 'stage_seq': 3}]}\n"
     ]
    },
    {
     "name": "stdout",
     "output_type": "stream",
     "text": [
      "{'bk_status': [{'description': 'SQL解析', 'stage_status': 'success', 'stage_start': '2020-12-01 09:49:15', 'stage_type': 'parse', 'stage_seq': 1, 'time_taken': 1}, {'description': '提交任务', 'stage_status': 'success', 'stage_start': '2020-12-01 09:49:16', 'stage_type': 'submit', 'stage_seq': 2, 'time_taken': 1}, {'description': '任务执行', 'stage_status': 'running', 'stage_start': '2020-12-01 09:49:16', 'stage_type': 'execute', 'stage_seq': 3, 'time_taken': 2}]}\n"
     ]
    },
    {
     "name": "stdout",
     "output_type": "stream",
     "text": [
      "{'bk_status': [{'description': 'SQL解析', 'stage_status': 'success', 'stage_start': '2020-12-01 09:49:15', 'stage_type': 'parse', 'stage_seq': 1, 'time_taken': 1}, {'description': '提交任务', 'stage_status': 'success', 'stage_start': '2020-12-01 09:49:16', 'stage_type': 'submit', 'stage_seq': 2, 'time_taken': 1}, {'description': '任务执行', 'stage_status': 'running', 'stage_start': '2020-12-01 09:49:16', 'stage_type': 'execute', 'stage_seq': 3, 'time_taken': 5}]}\n"
     ]
    },
    {
     "name": "stdout",
     "output_type": "stream",
     "text": [
      "{'bk_status': [{'description': 'SQL解析', 'stage_status': 'success', 'stage_start': '2020-12-01 09:49:15', 'stage_type': 'parse', 'stage_seq': 1, 'time_taken': 1}, {'description': '提交任务', 'stage_status': 'success', 'stage_start': '2020-12-01 09:49:16', 'stage_type': 'submit', 'stage_seq': 2, 'time_taken': 1}, {'description': '任务执行', 'stage_status': 'running', 'stage_start': '2020-12-01 09:49:16', 'stage_type': 'execute', 'stage_seq': 3, 'time_taken': 8}]}\n"
     ]
    },
    {
     "name": "stdout",
     "output_type": "stream",
     "text": [
      "{'bk_status': [{'description': 'SQL解析', 'stage_status': 'success', 'stage_start': '2020-12-01 09:49:15', 'stage_type': 'parse', 'stage_seq': 1, 'time_taken': 1}, {'description': '提交任务', 'stage_status': 'success', 'stage_start': '2020-12-01 09:49:16', 'stage_type': 'submit', 'stage_seq': 2, 'time_taken': 1}, {'description': '任务执行', 'stage_status': 'running', 'stage_start': '2020-12-01 09:49:16', 'stage_type': 'execute', 'stage_seq': 3, 'time_taken': 11}]}\n"
     ]
    },
    {
     "name": "stdout",
     "output_type": "stream",
     "text": [
      "{'bk_status': [{'description': 'SQL解析', 'stage_status': 'success', 'stage_start': '2020-12-01 09:49:15', 'stage_type': 'parse', 'stage_seq': 1, 'time_taken': 1}, {'description': '提交任务', 'stage_status': 'success', 'stage_start': '2020-12-01 09:49:16', 'stage_type': 'submit', 'stage_seq': 2, 'time_taken': 1}, {'description': '任务执行', 'stage_status': 'running', 'stage_start': '2020-12-01 09:49:16', 'stage_type': 'execute', 'stage_seq': 3, 'time_taken': 14}]}\n"
     ]
    },
    {
     "name": "stdout",
     "output_type": "stream",
     "text": [
      "{'bk_status': [{'description': 'SQL解析', 'stage_status': 'success', 'stage_start': '2020-12-01 09:49:15', 'stage_type': 'parse', 'stage_seq': 1, 'time_taken': 1}, {'description': '提交任务', 'stage_status': 'success', 'stage_start': '2020-12-01 09:49:16', 'stage_type': 'submit', 'stage_seq': 2, 'time_taken': 1}, {'description': '任务执行', 'stage_status': 'running', 'stage_start': '2020-12-01 09:49:16', 'stage_type': 'execute', 'stage_seq': 3, 'time_taken': 17}]}\n"
     ]
    },
    {
     "name": "stdout",
     "output_type": "stream",
     "text": [
      "{'bk_status': [{'description': 'SQL解析', 'stage_status': 'success', 'stage_start': '2020-12-01 09:49:15', 'stage_type': 'parse', 'stage_seq': 1, 'time_taken': 1}, {'description': '提交任务', 'stage_status': 'success', 'stage_start': '2020-12-01 09:49:16', 'stage_type': 'submit', 'stage_seq': 2, 'time_taken': 1}, {'description': '任务执行', 'stage_status': 'running', 'stage_start': '2020-12-01 09:49:16', 'stage_type': 'execute', 'stage_seq': 3, 'time_taken': 20}]}\n"
     ]
    },
    {
     "name": "stdout",
     "output_type": "stream",
     "text": [
      "{'bk_status': [{'description': 'SQL解析', 'stage_status': 'success', 'stage_start': '2020-12-01 09:49:15', 'stage_type': 'parse', 'stage_seq': 1, 'time_taken': 1}, {'description': '提交任务', 'stage_status': 'success', 'stage_start': '2020-12-01 09:49:16', 'stage_type': 'submit', 'stage_seq': 2, 'time_taken': 1}, {'description': '任务执行', 'stage_status': 'success', 'stage_start': '2020-12-01 09:49:16', 'stage_type': 'execute', 'stage_seq': 3, 'time_taken': 24}]}\n"
     ]
    },
    {
     "name": "stdout",
     "output_type": "stream",
     "text": [
      "{'bk_status': [{'description': 'SQL解析', 'stage_status': 'success', 'stage_start': '2020-12-01 09:49:15', 'stage_type': 'parse', 'stage_seq': 1, 'time_taken': 1}, {'description': '提交任务', 'stage_status': 'success', 'stage_start': '2020-12-01 09:49:16', 'stage_type': 'submit', 'stage_seq': 2, 'time_taken': 1}, {'description': '任务执行', 'stage_status': 'success', 'stage_start': '2020-12-01 09:49:16', 'stage_type': 'execute', 'stage_seq': 3, 'time_taken': 24}], 'bk_release': 'false'}\n"
     ]
    },
    {
     "data": {
      "text/plain": [
       "'执行成功'"
      ]
     },
     "execution_count": 3,
     "metadata": {},
     "output_type": "execute_result"
    }
   ],
   "source": [
    "%%mlsql\n",
    "train model 591_transform_string_to_double\n",
    "options(algorithm='string_indexer',\n",
    "        input_col='species', output_col='species_num')\n",
    "from 591_iris_sample_queryset"
   ]
  },
  {
   "cell_type": "markdown",
   "id": "0b32f68fb27a46fba35de3fcf5f61eaf",
   "metadata": {},
   "source": [
    "接下来使用 run model 语法，完成特征转换，并写入到查询结果集中；\n",
    "\n",
    "注：在后续迭代中，可以在分类/回归、推荐、聚类等算法模型训练的同时一并完成特征转换。"
   ]
  },
  {
   "cell_type": "code",
   "execution_count": 4,
   "id": "aa17b587e4c347b38143ba424cdc0b5a",
   "metadata": {
    "ExecuteTime": {
     "end_time": "2020-12-01T01:57:32.331572Z",
     "start_time": "2020-12-01T01:57:02.968594Z"
    }
   },
   "outputs": [
    {
     "name": "stdout",
     "output_type": "stream",
     "text": [
      "{'bk_status': [{'stage_status': 'pending', 'time_taken': 0, 'stage_type': 'parse', 'description': 'SQL解析', 'stage_seq': 1}, {'stage_status': 'pending', 'time_taken': 0, 'stage_type': 'submit', 'description': '提交任务', 'stage_seq': 2}, {'stage_status': 'pending', 'time_taken': 0, 'stage_type': 'execute', 'description': '任务执行', 'stage_seq': 3}]}\n"
     ]
    },
    {
     "name": "stdout",
     "output_type": "stream",
     "text": [
      "{'bk_status': [{'description': 'SQL解析', 'stage_status': 'success', 'stage_start': '2020-12-01 09:57:04', 'stage_type': 'parse', 'stage_seq': 1, 'time_taken': 3}, {'description': '提交任务', 'stage_status': 'success', 'stage_start': '2020-12-01 09:57:07', 'stage_type': 'submit', 'stage_seq': 2, 'time_taken': 1}, {'stage_status': 'pending', 'time_taken': 0, 'stage_type': 'execute', 'description': '任务执行', 'stage_seq': 3}]}\n"
     ]
    },
    {
     "name": "stdout",
     "output_type": "stream",
     "text": [
      "{'bk_status': [{'description': 'SQL解析', 'stage_status': 'success', 'stage_start': '2020-12-01 09:57:04', 'stage_type': 'parse', 'stage_seq': 1, 'time_taken': 3}, {'description': '提交任务', 'stage_status': 'success', 'stage_start': '2020-12-01 09:57:07', 'stage_type': 'submit', 'stage_seq': 2, 'time_taken': 1}, {'description': '任务执行', 'stage_status': 'running', 'stage_start': '2020-12-01 09:57:07', 'stage_type': 'execute', 'stage_seq': 3, 'time_taken': 3}]}\n"
     ]
    },
    {
     "name": "stdout",
     "output_type": "stream",
     "text": [
      "{'bk_status': [{'description': 'SQL解析', 'stage_status': 'success', 'stage_start': '2020-12-01 09:57:04', 'stage_type': 'parse', 'stage_seq': 1, 'time_taken': 3}, {'description': '提交任务', 'stage_status': 'success', 'stage_start': '2020-12-01 09:57:07', 'stage_type': 'submit', 'stage_seq': 2, 'time_taken': 1}, {'description': '任务执行', 'stage_status': 'running', 'stage_start': '2020-12-01 09:57:07', 'stage_type': 'execute', 'stage_seq': 3, 'time_taken': 6}]}\n"
     ]
    },
    {
     "name": "stdout",
     "output_type": "stream",
     "text": [
      "{'bk_status': [{'description': 'SQL解析', 'stage_status': 'success', 'stage_start': '2020-12-01 09:57:04', 'stage_type': 'parse', 'stage_seq': 1, 'time_taken': 3}, {'description': '提交任务', 'stage_status': 'success', 'stage_start': '2020-12-01 09:57:07', 'stage_type': 'submit', 'stage_seq': 2, 'time_taken': 1}, {'description': '任务执行', 'stage_status': 'running', 'stage_start': '2020-12-01 09:57:07', 'stage_type': 'execute', 'stage_seq': 3, 'time_taken': 9}]}\n"
     ]
    },
    {
     "name": "stdout",
     "output_type": "stream",
     "text": [
      "{'bk_status': [{'description': 'SQL解析', 'stage_status': 'success', 'stage_start': '2020-12-01 09:57:04', 'stage_type': 'parse', 'stage_seq': 1, 'time_taken': 3}, {'description': '提交任务', 'stage_status': 'success', 'stage_start': '2020-12-01 09:57:07', 'stage_type': 'submit', 'stage_seq': 2, 'time_taken': 1}, {'description': '任务执行', 'stage_status': 'running', 'stage_start': '2020-12-01 09:57:07', 'stage_type': 'execute', 'stage_seq': 3, 'time_taken': 12}]}\n"
     ]
    },
    {
     "name": "stdout",
     "output_type": "stream",
     "text": [
      "{'bk_status': [{'description': 'SQL解析', 'stage_status': 'success', 'stage_start': '2020-12-01 09:57:04', 'stage_type': 'parse', 'stage_seq': 1, 'time_taken': 3}, {'description': '提交任务', 'stage_status': 'success', 'stage_start': '2020-12-01 09:57:07', 'stage_type': 'submit', 'stage_seq': 2, 'time_taken': 1}, {'description': '任务执行', 'stage_status': 'running', 'stage_start': '2020-12-01 09:57:07', 'stage_type': 'execute', 'stage_seq': 3, 'time_taken': 15}]}\n"
     ]
    },
    {
     "name": "stdout",
     "output_type": "stream",
     "text": [
      "{'bk_status': [{'description': 'SQL解析', 'stage_status': 'success', 'stage_start': '2020-12-01 09:57:04', 'stage_type': 'parse', 'stage_seq': 1, 'time_taken': 3}, {'description': '提交任务', 'stage_status': 'success', 'stage_start': '2020-12-01 09:57:07', 'stage_type': 'submit', 'stage_seq': 2, 'time_taken': 1}, {'description': '任务执行', 'stage_status': 'running', 'stage_start': '2020-12-01 09:57:07', 'stage_type': 'execute', 'stage_seq': 3, 'time_taken': 19}]}\n"
     ]
    },
    {
     "name": "stdout",
     "output_type": "stream",
     "text": [
      "{'bk_status': [{'description': 'SQL解析', 'stage_status': 'success', 'stage_start': '2020-12-01 09:57:04', 'stage_type': 'parse', 'stage_seq': 1, 'time_taken': 3}, {'description': '提交任务', 'stage_status': 'success', 'stage_start': '2020-12-01 09:57:07', 'stage_type': 'submit', 'stage_seq': 2, 'time_taken': 1}, {'description': '任务执行', 'stage_status': 'success', 'stage_start': '2020-12-01 09:57:07', 'stage_type': 'execute', 'stage_seq': 3, 'time_taken': 22}]}\n"
     ]
    },
    {
     "name": "stdout",
     "output_type": "stream",
     "text": [
      "{'bk_status': [{'description': 'SQL解析', 'stage_status': 'success', 'stage_start': '2020-12-01 09:57:04', 'stage_type': 'parse', 'stage_seq': 1, 'time_taken': 3}, {'description': '提交任务', 'stage_status': 'success', 'stage_start': '2020-12-01 09:57:07', 'stage_type': 'submit', 'stage_seq': 2, 'time_taken': 1}, {'description': '任务执行', 'stage_status': 'success', 'stage_start': '2020-12-01 09:57:07', 'stage_type': 'execute', 'stage_seq': 3, 'time_taken': 22}], 'bk_release': 'true'}\n"
     ]
    },
    {
     "data": {
      "text/plain": [
       "'执行成功'"
      ]
     },
     "execution_count": 4,
     "metadata": {},
     "output_type": "execute_result"
    }
   ],
   "source": [
    "%%mlsql\n",
    "\n",
    "create table 591_iris_sample_qs_double \n",
    "    as run 591_transform_string_to_double(input_col=species) as species_num, \n",
    "    sepal_length, sepal_width, petal_width, petal_length\n",
    "    from 591_iris_sample_queryset;\n"
   ]
  },
  {
   "cell_type": "markdown",
   "id": "af489019b22246f38a920df050457cc4",
   "metadata": {},
   "source": [
    "查询特征转换后的查询结果集，可以看到，species 列的字符串(`versicolor, virginica, setosa` )已经转换为 `0.0, 1.0, 2.0`"
   ]
  },
  {
   "cell_type": "code",
   "execution_count": 5,
   "id": "0f3339862f394915a6ed8acdad01d611",
   "metadata": {
    "ExecuteTime": {
     "end_time": "2020-12-04T09:56:54.793162Z",
     "start_time": "2020-12-04T09:56:50.554159Z"
    }
   },
   "outputs": [
    {
     "name": "stdout",
     "output_type": "stream",
     "text": [
      "页面最多展示100条数据，请将结果集赋值给变量进行处理，示例：result = _\n"
     ]
    },
    {
     "data": {
      "bk_chart": "query_table",
      "chart_config": "{}",
      "list": "[{\"_rownum\":1,\"petal_length\":3.0,\"petal_width\":1.1,\"sepal_length\":5.1,\"sepal_width\":2.5,\"species_num\":0.0},{\"_rownum\":2,\"petal_length\":3.5,\"petal_width\":1.0,\"sepal_length\":5.0,\"sepal_width\":2.0,\"species_num\":0.0},{\"_rownum\":3,\"petal_length\":3.5,\"petal_width\":1.0,\"sepal_length\":5.7,\"sepal_width\":2.6,\"species_num\":0.0},{\"_rownum\":4,\"petal_length\":4.0,\"petal_width\":1.0,\"sepal_length\":6.0,\"sepal_width\":2.2,\"species_num\":0.0},{\"_rownum\":5,\"petal_length\":4.0,\"petal_width\":1.2,\"sepal_length\":5.8,\"sepal_width\":2.6,\"species_num\":0.0},{\"_rownum\":6,\"petal_length\":4.0,\"petal_width\":1.3,\"sepal_length\":5.5,\"sepal_width\":2.3,\"species_num\":0.0},{\"_rownum\":7,\"petal_length\":4.0,\"petal_width\":1.3,\"sepal_length\":6.1,\"sepal_width\":2.8,\"species_num\":0.0},{\"_rownum\":8,\"petal_length\":4.0,\"petal_width\":1.3,\"sepal_length\":5.5,\"sepal_width\":2.5,\"species_num\":0.0},{\"_rownum\":9,\"petal_length\":4.5,\"petal_width\":1.5,\"sepal_length\":6.4,\"sepal_width\":3.2,\"species_num\":0.0},{\"_rownum\":10,\"petal_length\":4.5,\"petal_width\":1.5,\"sepal_length\":5.6,\"sepal_width\":3.0,\"species_num\":0.0},{\"_rownum\":11,\"petal_length\":4.5,\"petal_width\":1.5,\"sepal_length\":6.2,\"sepal_width\":2.2,\"species_num\":0.0},{\"_rownum\":12,\"petal_length\":4.5,\"petal_width\":1.5,\"sepal_length\":6.0,\"sepal_width\":2.9,\"species_num\":0.0},{\"_rownum\":13,\"petal_length\":4.5,\"petal_width\":1.5,\"sepal_length\":5.4,\"sepal_width\":3.0,\"species_num\":0.0},{\"_rownum\":14,\"petal_length\":4.5,\"petal_width\":1.7,\"sepal_length\":4.9,\"sepal_width\":2.5,\"species_num\":1.0},{\"_rownum\":15,\"petal_length\":4.5,\"petal_width\":1.6,\"sepal_length\":6.0,\"sepal_width\":3.4,\"species_num\":0.0},{\"_rownum\":16,\"petal_length\":4.5,\"petal_width\":1.3,\"sepal_length\":5.7,\"sepal_width\":2.8,\"species_num\":0.0},{\"_rownum\":17,\"petal_length\":5.0,\"petal_width\":2.0,\"sepal_length\":5.7,\"sepal_width\":2.5,\"species_num\":1.0},{\"_rownum\":18,\"petal_length\":5.0,\"petal_width\":1.5,\"sepal_length\":6.0,\"sepal_width\":2.2,\"species_num\":1.0},{\"_rownum\":19,\"petal_length\":5.0,\"petal_width\":1.7,\"sepal_length\":6.7,\"sepal_width\":3.0,\"species_num\":0.0},{\"_rownum\":20,\"petal_length\":5.0,\"petal_width\":1.9,\"sepal_length\":6.3,\"sepal_width\":2.5,\"species_num\":1.0},{\"_rownum\":21,\"petal_length\":5.5,\"petal_width\":2.1,\"sepal_length\":6.8,\"sepal_width\":3.0,\"species_num\":1.0},{\"_rownum\":22,\"petal_length\":5.5,\"petal_width\":1.8,\"sepal_length\":6.5,\"sepal_width\":3.0,\"species_num\":1.0},{\"_rownum\":23,\"petal_length\":5.5,\"petal_width\":1.8,\"sepal_length\":6.4,\"sepal_width\":3.1,\"species_num\":1.0},{\"_rownum\":24,\"petal_length\":6.0,\"petal_width\":2.5,\"sepal_length\":6.3,\"sepal_width\":3.3,\"species_num\":1.0},{\"_rownum\":25,\"petal_length\":6.0,\"petal_width\":1.8,\"sepal_length\":7.2,\"sepal_width\":3.2,\"species_num\":1.0},{\"_rownum\":26,\"petal_length\":1.0,\"petal_width\":0.2,\"sepal_length\":4.6,\"sepal_width\":3.6,\"species_num\":2.0},{\"_rownum\":27,\"petal_length\":1.5,\"petal_width\":0.3,\"sepal_length\":5.1,\"sepal_width\":3.8,\"species_num\":2.0},{\"_rownum\":28,\"petal_length\":1.5,\"petal_width\":0.1,\"sepal_length\":4.9,\"sepal_width\":3.1,\"species_num\":2.0},{\"_rownum\":29,\"petal_length\":1.5,\"petal_width\":0.1,\"sepal_length\":5.2,\"sepal_width\":4.1,\"species_num\":2.0},{\"_rownum\":30,\"petal_length\":1.5,\"petal_width\":0.1,\"sepal_length\":4.9,\"sepal_width\":3.1,\"species_num\":2.0},{\"_rownum\":31,\"petal_length\":1.5,\"petal_width\":0.1,\"sepal_length\":4.9,\"sepal_width\":3.1,\"species_num\":2.0},{\"_rownum\":32,\"petal_length\":1.5,\"petal_width\":0.2,\"sepal_length\":4.6,\"sepal_width\":3.1,\"species_num\":2.0},{\"_rownum\":33,\"petal_length\":1.5,\"petal_width\":0.2,\"sepal_length\":5.0,\"sepal_width\":3.4,\"species_num\":2.0},{\"_rownum\":34,\"petal_length\":1.5,\"petal_width\":0.2,\"sepal_length\":5.4,\"sepal_width\":3.7,\"species_num\":2.0},{\"_rownum\":35,\"petal_length\":1.5,\"petal_width\":0.2,\"sepal_length\":5.2,\"sepal_width\":3.5,\"species_num\":2.0},{\"_rownum\":36,\"petal_length\":1.5,\"petal_width\":0.2,\"sepal_length\":5.1,\"sepal_width\":3.4,\"species_num\":2.0},{\"_rownum\":37,\"petal_length\":1.5,\"petal_width\":0.2,\"sepal_length\":5.3,\"sepal_width\":3.7,\"species_num\":2.0},{\"_rownum\":38,\"petal_length\":1.5,\"petal_width\":0.4,\"sepal_length\":5.7,\"sepal_width\":4.4,\"species_num\":2.0},{\"_rownum\":39,\"petal_length\":1.5,\"petal_width\":0.4,\"sepal_length\":5.1,\"sepal_width\":3.7,\"species_num\":2.0},{\"_rownum\":40,\"petal_length\":1.5,\"petal_width\":0.4,\"sepal_length\":5.4,\"sepal_width\":3.4,\"species_num\":2.0},{\"_rownum\":41,\"petal_length\":3.9,\"petal_width\":1.2,\"sepal_length\":5.8,\"sepal_width\":2.7,\"species_num\":0.0},{\"_rownum\":42,\"petal_length\":3.9,\"petal_width\":1.4,\"sepal_length\":5.2,\"sepal_width\":2.7,\"species_num\":0.0},{\"_rownum\":43,\"petal_length\":3.9,\"petal_width\":1.1,\"sepal_length\":5.6,\"sepal_width\":2.5,\"species_num\":0.0},{\"_rownum\":44,\"petal_length\":4.3,\"petal_width\":1.3,\"sepal_length\":6.4,\"sepal_width\":2.9,\"species_num\":0.0},{\"_rownum\":45,\"petal_length\":4.3,\"petal_width\":1.3,\"sepal_length\":6.2,\"sepal_width\":2.9,\"species_num\":0.0},{\"_rownum\":46,\"petal_length\":4.8,\"petal_width\":1.4,\"sepal_length\":6.8,\"sepal_width\":2.8,\"species_num\":0.0},{\"_rownum\":47,\"petal_length\":4.8,\"petal_width\":1.8,\"sepal_length\":5.9,\"sepal_width\":3.2,\"species_num\":0.0},{\"_rownum\":48,\"petal_length\":4.8,\"petal_width\":1.8,\"sepal_length\":6.2,\"sepal_width\":2.8,\"species_num\":1.0},{\"_rownum\":49,\"petal_length\":4.8,\"petal_width\":1.8,\"sepal_length\":6.0,\"sepal_width\":3.0,\"species_num\":1.0},{\"_rownum\":50,\"petal_length\":5.3,\"petal_width\":2.3,\"sepal_length\":6.4,\"sepal_width\":3.2,\"species_num\":1.0},{\"_rownum\":51,\"petal_length\":5.3,\"petal_width\":1.9,\"sepal_length\":6.4,\"sepal_width\":2.7,\"species_num\":1.0},{\"_rownum\":52,\"petal_length\":5.8,\"petal_width\":2.2,\"sepal_length\":6.5,\"sepal_width\":3.0,\"species_num\":1.0},{\"_rownum\":53,\"petal_length\":5.8,\"petal_width\":1.6,\"sepal_length\":7.2,\"sepal_width\":3.0,\"species_num\":1.0},{\"_rownum\":54,\"petal_length\":5.8,\"petal_width\":1.8,\"sepal_length\":6.7,\"sepal_width\":2.5,\"species_num\":1.0},{\"_rownum\":55,\"petal_length\":6.3,\"petal_width\":1.8,\"sepal_length\":7.3,\"sepal_width\":2.9,\"species_num\":1.0},{\"_rownum\":56,\"petal_length\":1.2,\"petal_width\":0.2,\"sepal_length\":5.8,\"sepal_width\":4.0,\"species_num\":2.0},{\"_rownum\":57,\"petal_length\":1.2,\"petal_width\":0.2,\"sepal_length\":5.0,\"sepal_width\":3.2,\"species_num\":2.0},{\"_rownum\":58,\"petal_length\":1.7,\"petal_width\":0.5,\"sepal_length\":5.1,\"sepal_width\":3.3,\"species_num\":2.0},{\"_rownum\":59,\"petal_length\":1.7,\"petal_width\":0.3,\"sepal_length\":5.7,\"sepal_width\":3.8,\"species_num\":2.0},{\"_rownum\":60,\"petal_length\":1.7,\"petal_width\":0.2,\"sepal_length\":5.4,\"sepal_width\":3.4,\"species_num\":2.0},{\"_rownum\":61,\"petal_length\":1.7,\"petal_width\":0.4,\"sepal_length\":5.4,\"sepal_width\":3.9,\"species_num\":2.0},{\"_rownum\":62,\"petal_length\":3.3,\"petal_width\":1.0,\"sepal_length\":4.9,\"sepal_width\":2.4,\"species_num\":0.0},{\"_rownum\":63,\"petal_length\":3.3,\"petal_width\":1.0,\"sepal_length\":5.0,\"sepal_width\":2.3,\"species_num\":0.0},{\"_rownum\":64,\"petal_length\":4.2,\"petal_width\":1.5,\"sepal_length\":5.9,\"sepal_width\":3.0,\"species_num\":0.0},{\"_rownum\":65,\"petal_length\":4.2,\"petal_width\":1.2,\"sepal_length\":5.7,\"sepal_width\":3.0,\"species_num\":0.0},{\"_rownum\":66,\"petal_length\":4.2,\"petal_width\":1.3,\"sepal_length\":5.6,\"sepal_width\":2.7,\"species_num\":0.0},{\"_rownum\":67,\"petal_length\":4.2,\"petal_width\":1.3,\"sepal_length\":5.7,\"sepal_width\":2.9,\"species_num\":0.0},{\"_rownum\":68,\"petal_length\":4.7,\"petal_width\":1.5,\"sepal_length\":6.7,\"sepal_width\":3.1,\"species_num\":0.0},{\"_rownum\":69,\"petal_length\":4.7,\"petal_width\":1.2,\"sepal_length\":6.1,\"sepal_width\":2.8,\"species_num\":0.0},{\"_rownum\":70,\"petal_length\":4.7,\"petal_width\":1.4,\"sepal_length\":7.0,\"sepal_width\":3.2,\"species_num\":0.0},{\"_rownum\":71,\"petal_length\":4.7,\"petal_width\":1.4,\"sepal_length\":6.1,\"sepal_width\":2.9,\"species_num\":0.0},{\"_rownum\":72,\"petal_length\":4.7,\"petal_width\":1.6,\"sepal_length\":6.3,\"sepal_width\":3.3,\"species_num\":0.0},{\"_rownum\":73,\"petal_length\":5.2,\"petal_width\":2.0,\"sepal_length\":6.5,\"sepal_width\":3.0,\"species_num\":1.0},{\"_rownum\":74,\"petal_length\":5.2,\"petal_width\":2.3,\"sepal_length\":6.7,\"sepal_width\":3.0,\"species_num\":1.0},{\"_rownum\":75,\"petal_length\":5.7,\"petal_width\":2.5,\"sepal_length\":6.7,\"sepal_width\":3.3,\"species_num\":1.0},{\"_rownum\":76,\"petal_length\":5.7,\"petal_width\":2.3,\"sepal_length\":6.9,\"sepal_width\":3.2,\"species_num\":1.0},{\"_rownum\":77,\"petal_length\":5.7,\"petal_width\":2.1,\"sepal_length\":6.7,\"sepal_width\":3.3,\"species_num\":1.0},{\"_rownum\":78,\"petal_length\":6.7,\"petal_width\":2.0,\"sepal_length\":7.7,\"sepal_width\":2.8,\"species_num\":1.0},{\"_rownum\":79,\"petal_length\":6.7,\"petal_width\":2.2,\"sepal_length\":7.7,\"sepal_width\":3.8,\"species_num\":1.0},{\"_rownum\":80,\"petal_length\":1.3,\"petal_width\":0.3,\"sepal_length\":5.0,\"sepal_width\":3.5,\"species_num\":2.0},{\"_rownum\":81,\"petal_length\":1.3,\"petal_width\":0.3,\"sepal_length\":4.5,\"sepal_width\":2.3,\"species_num\":2.0},{\"_rownum\":82,\"petal_length\":1.3,\"petal_width\":0.2,\"sepal_length\":4.7,\"sepal_width\":3.2,\"species_num\":2.0},{\"_rownum\":83,\"petal_length\":1.3,\"petal_width\":0.2,\"sepal_length\":5.5,\"sepal_width\":3.5,\"species_num\":2.0},{\"_rownum\":84,\"petal_length\":1.3,\"petal_width\":0.2,\"sepal_length\":4.4,\"sepal_width\":3.0,\"species_num\":2.0},{\"_rownum\":85,\"petal_length\":1.3,\"petal_width\":0.2,\"sepal_length\":4.4,\"sepal_width\":3.2,\"species_num\":2.0},{\"_rownum\":86,\"petal_length\":1.3,\"petal_width\":0.4,\"sepal_length\":5.4,\"sepal_width\":3.9,\"species_num\":2.0},{\"_rownum\":87,\"petal_length\":3.8,\"petal_width\":1.1,\"sepal_length\":5.5,\"sepal_width\":2.4,\"species_num\":0.0},{\"_rownum\":88,\"petal_length\":4.1,\"petal_width\":1.0,\"sepal_length\":5.8,\"sepal_width\":2.7,\"species_num\":0.0},{\"_rownum\":89,\"petal_length\":4.1,\"petal_width\":1.3,\"sepal_length\":5.6,\"sepal_width\":3.0,\"species_num\":0.0},{\"_rownum\":90,\"petal_length\":4.1,\"petal_width\":1.3,\"sepal_length\":5.7,\"sepal_width\":2.8,\"species_num\":0.0},{\"_rownum\":91,\"petal_length\":4.6,\"petal_width\":1.5,\"sepal_length\":6.5,\"sepal_width\":2.8,\"species_num\":0.0},{\"_rownum\":92,\"petal_length\":4.6,\"petal_width\":1.4,\"sepal_length\":6.1,\"sepal_width\":3.0,\"species_num\":0.0},{\"_rownum\":93,\"petal_length\":4.6,\"petal_width\":1.3,\"sepal_length\":6.6,\"sepal_width\":2.9,\"species_num\":0.0},{\"_rownum\":94,\"petal_length\":5.1,\"petal_width\":2.0,\"sepal_length\":6.5,\"sepal_width\":3.2,\"species_num\":1.0},{\"_rownum\":95,\"petal_length\":5.1,\"petal_width\":1.5,\"sepal_length\":6.3,\"sepal_width\":2.8,\"species_num\":1.0},{\"_rownum\":96,\"petal_length\":5.1,\"petal_width\":2.4,\"sepal_length\":5.8,\"sepal_width\":2.8,\"species_num\":1.0},{\"_rownum\":97,\"petal_length\":5.1,\"petal_width\":2.3,\"sepal_length\":6.9,\"sepal_width\":3.1,\"species_num\":1.0},{\"_rownum\":98,\"petal_length\":5.1,\"petal_width\":1.9,\"sepal_length\":5.8,\"sepal_width\":2.7,\"species_num\":1.0},{\"_rownum\":99,\"petal_length\":5.1,\"petal_width\":1.9,\"sepal_length\":5.8,\"sepal_width\":2.7,\"species_num\":1.0},{\"_rownum\":100,\"petal_length\":5.1,\"petal_width\":1.6,\"sepal_length\":6.0,\"sepal_width\":2.7,\"species_num\":0.0}]",
      "select_fields_order": "[\"species_num\",\"sepal_length\",\"sepal_width\",\"petal_width\",\"petal_length\"]"
     },
     "execution_count": 5,
     "metadata": {},
     "output_type": "execute_result"
    }
   ],
   "source": [
    "%%bksql\n",
    "\n",
    "select * from 591_iris_sample_qs_double limit 150;"
   ]
  },
  {
   "cell_type": "markdown",
   "id": "bfbbeb1f34e94aff8a0a25f1a5ecdac0",
   "metadata": {},
   "source": [
    "### 3. 模型训练（算法：逻辑回归）\n",
    "预测花的分类属于分类问题，可以使用 `逻辑回归` 算法进行监督学习，预测某个值是否属于多个类别之一。\n",
    "\n",
    "- 输入特征：sepal_length（花萼长度）, sepal_width（花萼宽度）, petal_width（花瓣宽度）, petal_length（花瓣长度）\n",
    "- 标签：species_num（花的属种）\n",
    "\n",
    "\n",
    "使用 `train model` 语法，并选择算法 `algorithm='logistic_regression'`, 会创建一个 model，并使用上面特征转换后的查询结果集进行模型训练。\n"
   ]
  },
  {
   "cell_type": "code",
   "execution_count": 6,
   "id": "485c4b3c0f3549f497aab93f706a7d8c",
   "metadata": {
    "ExecuteTime": {
     "end_time": "2020-12-01T09:06:35.112920Z",
     "start_time": "2020-12-01T09:06:09.487834Z"
    }
   },
   "outputs": [
    {
     "name": "stdout",
     "output_type": "stream",
     "text": [
      "{'bk_status': [{'stage_status': 'pending', 'time_taken': 0, 'stage_type': 'parse', 'description': 'SQL解析', 'stage_seq': 1}, {'stage_status': 'pending', 'time_taken': 0, 'stage_type': 'submit', 'description': '提交任务', 'stage_seq': 2}, {'stage_status': 'pending', 'time_taken': 0, 'stage_type': 'execute', 'description': '任务执行', 'stage_seq': 3}]}\n"
     ]
    },
    {
     "name": "stdout",
     "output_type": "stream",
     "text": [
      "{'bk_status': [{'description': 'SQL解析', 'stage_status': 'success', 'stage_start': '2020-12-01 17:06:10', 'stage_type': 'parse', 'stage_seq': 1, 'time_taken': 1}, {'description': '提交任务', 'stage_status': 'success', 'stage_start': '2020-12-01 17:06:11', 'stage_type': 'submit', 'stage_seq': 2, 'time_taken': 1}, {'description': '任务执行', 'stage_status': 'running', 'stage_start': '2020-12-01 17:06:11', 'stage_type': 'execute', 'stage_seq': 3, 'time_taken': 2}]}\n"
     ]
    },
    {
     "name": "stdout",
     "output_type": "stream",
     "text": [
      "{'bk_status': [{'description': 'SQL解析', 'stage_status': 'success', 'stage_start': '2020-12-01 17:06:10', 'stage_type': 'parse', 'stage_seq': 1, 'time_taken': 1}, {'description': '提交任务', 'stage_status': 'success', 'stage_start': '2020-12-01 17:06:11', 'stage_type': 'submit', 'stage_seq': 2, 'time_taken': 1}, {'description': '任务执行', 'stage_status': 'running', 'stage_start': '2020-12-01 17:06:11', 'stage_type': 'execute', 'stage_seq': 3, 'time_taken': 5}]}\n"
     ]
    },
    {
     "name": "stdout",
     "output_type": "stream",
     "text": [
      "{'bk_status': [{'description': 'SQL解析', 'stage_status': 'success', 'stage_start': '2020-12-01 17:06:10', 'stage_type': 'parse', 'stage_seq': 1, 'time_taken': 1}, {'description': '提交任务', 'stage_status': 'success', 'stage_start': '2020-12-01 17:06:11', 'stage_type': 'submit', 'stage_seq': 2, 'time_taken': 1}, {'description': '任务执行', 'stage_status': 'running', 'stage_start': '2020-12-01 17:06:11', 'stage_type': 'execute', 'stage_seq': 3, 'time_taken': 8}]}\n"
     ]
    },
    {
     "name": "stdout",
     "output_type": "stream",
     "text": [
      "{'bk_status': [{'description': 'SQL解析', 'stage_status': 'success', 'stage_start': '2020-12-01 17:06:10', 'stage_type': 'parse', 'stage_seq': 1, 'time_taken': 1}, {'description': '提交任务', 'stage_status': 'success', 'stage_start': '2020-12-01 17:06:11', 'stage_type': 'submit', 'stage_seq': 2, 'time_taken': 1}, {'description': '任务执行', 'stage_status': 'running', 'stage_start': '2020-12-01 17:06:11', 'stage_type': 'execute', 'stage_seq': 3, 'time_taken': 11}]}\n"
     ]
    },
    {
     "name": "stdout",
     "output_type": "stream",
     "text": [
      "{'bk_status': [{'description': 'SQL解析', 'stage_status': 'success', 'stage_start': '2020-12-01 17:06:10', 'stage_type': 'parse', 'stage_seq': 1, 'time_taken': 1}, {'description': '提交任务', 'stage_status': 'success', 'stage_start': '2020-12-01 17:06:11', 'stage_type': 'submit', 'stage_seq': 2, 'time_taken': 1}, {'description': '任务执行', 'stage_status': 'running', 'stage_start': '2020-12-01 17:06:11', 'stage_type': 'execute', 'stage_seq': 3, 'time_taken': 14}]}\n"
     ]
    },
    {
     "name": "stdout",
     "output_type": "stream",
     "text": [
      "{'bk_status': [{'description': 'SQL解析', 'stage_status': 'success', 'stage_start': '2020-12-01 17:06:10', 'stage_type': 'parse', 'stage_seq': 1, 'time_taken': 1}, {'description': '提交任务', 'stage_status': 'success', 'stage_start': '2020-12-01 17:06:11', 'stage_type': 'submit', 'stage_seq': 2, 'time_taken': 1}, {'description': '任务执行', 'stage_status': 'running', 'stage_start': '2020-12-01 17:06:11', 'stage_type': 'execute', 'stage_seq': 3, 'time_taken': 17}]}\n"
     ]
    },
    {
     "name": "stdout",
     "output_type": "stream",
     "text": [
      "{'bk_status': [{'description': 'SQL解析', 'stage_status': 'success', 'stage_start': '2020-12-01 17:06:10', 'stage_type': 'parse', 'stage_seq': 1, 'time_taken': 1}, {'description': '提交任务', 'stage_status': 'success', 'stage_start': '2020-12-01 17:06:11', 'stage_type': 'submit', 'stage_seq': 2, 'time_taken': 1}, {'description': '任务执行', 'stage_status': 'success', 'stage_start': '2020-12-01 17:06:11', 'stage_type': 'execute', 'stage_seq': 3, 'time_taken': 20}]}\n"
     ]
    },
    {
     "name": "stdout",
     "output_type": "stream",
     "text": [
      "{'bk_status': [{'description': 'SQL解析', 'stage_status': 'success', 'stage_start': '2020-12-01 17:06:10', 'stage_type': 'parse', 'stage_seq': 1, 'time_taken': 1}, {'description': '提交任务', 'stage_status': 'success', 'stage_start': '2020-12-01 17:06:11', 'stage_type': 'submit', 'stage_seq': 2, 'time_taken': 1}, {'description': '任务执行', 'stage_status': 'success', 'stage_start': '2020-12-01 17:06:11', 'stage_type': 'execute', 'stage_seq': 3, 'time_taken': 20}], 'bk_release': 'false'}\n"
     ]
    },
    {
     "data": {
      "text/plain": [
       "'执行成功'"
      ]
     },
     "execution_count": 6,
     "metadata": {},
     "output_type": "execute_result"
    }
   ],
   "source": [
    "%%mlsql\n",
    "\n",
    "train model 591_iris_species_predict\n",
    "   options(\n",
    "       algorithm='logistic_regression', \n",
    "       features_col=<sepal_length, sepal_width, petal_width, petal_length>, \n",
    "       label_col=species_num, max_iter=10 ) \n",
    "from 591_iris_sample_qs_double"
   ]
  },
  {
   "cell_type": "markdown",
   "id": "7b157c7f8c9748448955aaee7f956af5",
   "metadata": {},
   "source": [
    "### 4. 模型评估（开发中，暂未开放）\n",
    "> 内置的评估函数还在开发中，可以先自行编写评估函数；\n",
    "\n",
    "用验证集的数据对已训练的模型进行评估。如果评估得分符合预期，可以做模型预测或发布；\n",
    "\n",
    "### 5. 模型预测\n",
    "使用 run model 语法直接在笔记中对数据进行预测。\n",
    "\n"
   ]
  },
  {
   "cell_type": "code",
   "execution_count": 7,
   "id": "2bc56cae03e44b5ab31217cb9b8c652d",
   "metadata": {
    "ExecuteTime": {
     "end_time": "2020-12-01T09:07:30.368788Z",
     "start_time": "2020-12-01T09:07:01.993219Z"
    }
   },
   "outputs": [
    {
     "name": "stdout",
     "output_type": "stream",
     "text": [
      "{'bk_status': [{'stage_status': 'pending', 'time_taken': 0, 'stage_type': 'parse', 'description': 'SQL解析', 'stage_seq': 1}, {'stage_status': 'pending', 'time_taken': 0, 'stage_type': 'submit', 'description': '提交任务', 'stage_seq': 2}, {'stage_status': 'pending', 'time_taken': 0, 'stage_type': 'execute', 'description': '任务执行', 'stage_seq': 3}]}\n"
     ]
    },
    {
     "name": "stdout",
     "output_type": "stream",
     "text": [
      "{'bk_status': [{'description': 'SQL解析', 'stage_status': 'running', 'stage_start': '2020-12-01 17:07:02', 'stage_type': 'parse', 'stage_seq': 1, 'time_taken': 3}, {'stage_status': 'pending', 'time_taken': 0, 'stage_type': 'submit', 'description': '提交任务', 'stage_seq': 2}, {'stage_status': 'pending', 'time_taken': 0, 'stage_type': 'execute', 'description': '任务执行', 'stage_seq': 3}]}\n"
     ]
    },
    {
     "name": "stdout",
     "output_type": "stream",
     "text": [
      "{'bk_status': [{'description': 'SQL解析', 'stage_status': 'success', 'stage_start': '2020-12-01 17:07:02', 'stage_type': 'parse', 'stage_seq': 1, 'time_taken': 4}, {'description': '提交任务', 'stage_status': 'success', 'stage_start': '2020-12-01 17:07:06', 'stage_type': 'submit', 'stage_seq': 2, 'time_taken': 1}, {'description': '任务执行', 'stage_status': 'running', 'stage_start': '2020-12-01 17:07:06', 'stage_type': 'execute', 'stage_seq': 3, 'time_taken': 2}]}\n"
     ]
    },
    {
     "name": "stdout",
     "output_type": "stream",
     "text": [
      "{'bk_status': [{'description': 'SQL解析', 'stage_status': 'success', 'stage_start': '2020-12-01 17:07:02', 'stage_type': 'parse', 'stage_seq': 1, 'time_taken': 4}, {'description': '提交任务', 'stage_status': 'success', 'stage_start': '2020-12-01 17:07:06', 'stage_type': 'submit', 'stage_seq': 2, 'time_taken': 1}, {'description': '任务执行', 'stage_status': 'running', 'stage_start': '2020-12-01 17:07:06', 'stage_type': 'execute', 'stage_seq': 3, 'time_taken': 5}]}\n"
     ]
    },
    {
     "name": "stdout",
     "output_type": "stream",
     "text": [
      "{'bk_status': [{'description': 'SQL解析', 'stage_status': 'success', 'stage_start': '2020-12-01 17:07:02', 'stage_type': 'parse', 'stage_seq': 1, 'time_taken': 4}, {'description': '提交任务', 'stage_status': 'success', 'stage_start': '2020-12-01 17:07:06', 'stage_type': 'submit', 'stage_seq': 2, 'time_taken': 1}, {'description': '任务执行', 'stage_status': 'running', 'stage_start': '2020-12-01 17:07:06', 'stage_type': 'execute', 'stage_seq': 3, 'time_taken': 8}]}\n"
     ]
    },
    {
     "name": "stdout",
     "output_type": "stream",
     "text": [
      "{'bk_status': [{'description': 'SQL解析', 'stage_status': 'success', 'stage_start': '2020-12-01 17:07:02', 'stage_type': 'parse', 'stage_seq': 1, 'time_taken': 4}, {'description': '提交任务', 'stage_status': 'success', 'stage_start': '2020-12-01 17:07:06', 'stage_type': 'submit', 'stage_seq': 2, 'time_taken': 1}, {'description': '任务执行', 'stage_status': 'running', 'stage_start': '2020-12-01 17:07:06', 'stage_type': 'execute', 'stage_seq': 3, 'time_taken': 11}]}\n"
     ]
    },
    {
     "name": "stdout",
     "output_type": "stream",
     "text": [
      "{'bk_status': [{'description': 'SQL解析', 'stage_status': 'success', 'stage_start': '2020-12-01 17:07:02', 'stage_type': 'parse', 'stage_seq': 1, 'time_taken': 4}, {'description': '提交任务', 'stage_status': 'success', 'stage_start': '2020-12-01 17:07:06', 'stage_type': 'submit', 'stage_seq': 2, 'time_taken': 1}, {'description': '任务执行', 'stage_status': 'running', 'stage_start': '2020-12-01 17:07:06', 'stage_type': 'execute', 'stage_seq': 3, 'time_taken': 14}]}\n"
     ]
    },
    {
     "name": "stdout",
     "output_type": "stream",
     "text": [
      "{'bk_status': [{'description': 'SQL解析', 'stage_status': 'success', 'stage_start': '2020-12-01 17:07:02', 'stage_type': 'parse', 'stage_seq': 1, 'time_taken': 4}, {'description': '提交任务', 'stage_status': 'success', 'stage_start': '2020-12-01 17:07:06', 'stage_type': 'submit', 'stage_seq': 2, 'time_taken': 1}, {'description': '任务执行', 'stage_status': 'running', 'stage_start': '2020-12-01 17:07:06', 'stage_type': 'execute', 'stage_seq': 3, 'time_taken': 18}]}\n"
     ]
    },
    {
     "name": "stdout",
     "output_type": "stream",
     "text": [
      "{'bk_status': [{'description': 'SQL解析', 'stage_status': 'success', 'stage_start': '2020-12-01 17:07:02', 'stage_type': 'parse', 'stage_seq': 1, 'time_taken': 4}, {'description': '提交任务', 'stage_status': 'success', 'stage_start': '2020-12-01 17:07:06', 'stage_type': 'submit', 'stage_seq': 2, 'time_taken': 1}, {'description': '任务执行', 'stage_status': 'success', 'stage_start': '2020-12-01 17:07:06', 'stage_type': 'execute', 'stage_seq': 3, 'time_taken': 21}]}\n"
     ]
    },
    {
     "name": "stdout",
     "output_type": "stream",
     "text": [
      "{'bk_status': [{'description': 'SQL解析', 'stage_status': 'success', 'stage_start': '2020-12-01 17:07:02', 'stage_type': 'parse', 'stage_seq': 1, 'time_taken': 4}, {'description': '提交任务', 'stage_status': 'success', 'stage_start': '2020-12-01 17:07:06', 'stage_type': 'submit', 'stage_seq': 2, 'time_taken': 1}, {'description': '任务执行', 'stage_status': 'success', 'stage_start': '2020-12-01 17:07:06', 'stage_type': 'execute', 'stage_seq': 3, 'time_taken': 21}], 'bk_release': 'true'}\n"
     ]
    },
    {
     "data": {
      "text/plain": [
       "'执行成功'"
      ]
     },
     "execution_count": 7,
     "metadata": {},
     "output_type": "execute_result"
    }
   ],
   "source": [
    "%%mlsql\n",
    "create table 591_iris_predict_result as\n",
    "    run 591_iris_species_predict(features_col=<sepal_length, sepal_width, petal_width, petal_length>) as predict_label,\n",
    "    sepal_length, sepal_width, petal_width, petal_length\n",
    "from 591_iris_sample_qs_double"
   ]
  },
  {
   "cell_type": "markdown",
   "id": "1cc55368cc3f4ac7b1a56a4dbb34465e",
   "metadata": {},
   "source": [
    "查看预测结果，可以看到 predict_result 列为模型预测的结果"
   ]
  },
  {
   "cell_type": "code",
   "execution_count": 8,
   "id": "3db3df71d1564cdaaea71f9f7ebb5bfe",
   "metadata": {
    "ExecuteTime": {
     "end_time": "2020-12-04T09:57:20.760545Z",
     "start_time": "2020-12-04T09:57:16.045983Z"
    }
   },
   "outputs": [
    {
     "data": {
      "bk_chart": "query_table",
      "chart_config": "{}",
      "list": "[{\"_rownum\":1,\"petal_length\":3.5,\"petal_width\":1.0,\"predict_result\":\"versicolor\",\"sepal_length\":5.0,\"sepal_width\":2.0},{\"_rownum\":2,\"petal_length\":3.5,\"petal_width\":1.0,\"predict_result\":\"versicolor\",\"sepal_length\":5.7,\"sepal_width\":2.6},{\"_rownum\":3,\"petal_length\":3.0,\"petal_width\":1.1,\"predict_result\":\"versicolor\",\"sepal_length\":5.1,\"sepal_width\":2.5},{\"_rownum\":4,\"petal_length\":4.0,\"petal_width\":1.3,\"predict_result\":\"versicolor\",\"sepal_length\":5.5,\"sepal_width\":2.5},{\"_rownum\":5,\"petal_length\":4.5,\"petal_width\":1.5,\"predict_result\":\"versicolor\",\"sepal_length\":6.4,\"sepal_width\":3.2},{\"_rownum\":6,\"petal_length\":4.5,\"petal_width\":1.5,\"predict_result\":\"versicolor\",\"sepal_length\":5.6,\"sepal_width\":3.0},{\"_rownum\":7,\"petal_length\":4.5,\"petal_width\":1.5,\"predict_result\":\"virginica\",\"sepal_length\":6.2,\"sepal_width\":2.2},{\"_rownum\":8,\"petal_length\":4.5,\"petal_width\":1.5,\"predict_result\":\"versicolor\",\"sepal_length\":6.0,\"sepal_width\":2.9},{\"_rownum\":9,\"petal_length\":4.5,\"petal_width\":1.5,\"predict_result\":\"versicolor\",\"sepal_length\":5.4,\"sepal_width\":3.0},{\"_rownum\":10,\"petal_length\":4.5,\"petal_width\":1.7,\"predict_result\":\"virginica\",\"sepal_length\":4.9,\"sepal_width\":2.5},{\"_rownum\":11,\"petal_length\":4.5,\"petal_width\":1.6,\"predict_result\":\"versicolor\",\"sepal_length\":6.0,\"sepal_width\":3.4},{\"_rownum\":12,\"petal_length\":4.0,\"petal_width\":1.0,\"predict_result\":\"versicolor\",\"sepal_length\":6.0,\"sepal_width\":2.2},{\"_rownum\":13,\"petal_length\":4.0,\"petal_width\":1.2,\"predict_result\":\"versicolor\",\"sepal_length\":5.8,\"sepal_width\":2.6},{\"_rownum\":14,\"petal_length\":4.0,\"petal_width\":1.3,\"predict_result\":\"versicolor\",\"sepal_length\":5.5,\"sepal_width\":2.3},{\"_rownum\":15,\"petal_length\":4.0,\"petal_width\":1.3,\"predict_result\":\"versicolor\",\"sepal_length\":6.1,\"sepal_width\":2.8},{\"_rownum\":16,\"petal_length\":4.5,\"petal_width\":1.3,\"predict_result\":\"versicolor\",\"sepal_length\":5.7,\"sepal_width\":2.8},{\"_rownum\":17,\"petal_length\":5.0,\"petal_width\":2.0,\"predict_result\":\"virginica\",\"sepal_length\":5.7,\"sepal_width\":2.5},{\"_rownum\":18,\"petal_length\":5.0,\"petal_width\":1.5,\"predict_result\":\"virginica\",\"sepal_length\":6.0,\"sepal_width\":2.2},{\"_rownum\":19,\"petal_length\":5.0,\"petal_width\":1.7,\"predict_result\":\"versicolor\",\"sepal_length\":6.7,\"sepal_width\":3.0},{\"_rownum\":20,\"petal_length\":5.0,\"petal_width\":1.9,\"predict_result\":\"virginica\",\"sepal_length\":6.3,\"sepal_width\":2.5},{\"_rownum\":21,\"petal_length\":5.5,\"petal_width\":2.1,\"predict_result\":\"virginica\",\"sepal_length\":6.8,\"sepal_width\":3.0},{\"_rownum\":22,\"petal_length\":5.5,\"petal_width\":1.8,\"predict_result\":\"virginica\",\"sepal_length\":6.5,\"sepal_width\":3.0},{\"_rownum\":23,\"petal_length\":5.5,\"petal_width\":1.8,\"predict_result\":\"virginica\",\"sepal_length\":6.4,\"sepal_width\":3.1},{\"_rownum\":24,\"petal_length\":6.0,\"petal_width\":2.5,\"predict_result\":\"virginica\",\"sepal_length\":6.3,\"sepal_width\":3.3},{\"_rownum\":25,\"petal_length\":6.0,\"petal_width\":1.8,\"predict_result\":\"virginica\",\"sepal_length\":7.2,\"sepal_width\":3.2},{\"_rownum\":26,\"petal_length\":1.0,\"petal_width\":0.2,\"predict_result\":\"setosa\",\"sepal_length\":4.6,\"sepal_width\":3.6},{\"_rownum\":27,\"petal_length\":1.5,\"petal_width\":0.3,\"predict_result\":\"setosa\",\"sepal_length\":5.1,\"sepal_width\":3.8},{\"_rownum\":28,\"petal_length\":1.5,\"petal_width\":0.1,\"predict_result\":\"setosa\",\"sepal_length\":4.9,\"sepal_width\":3.1},{\"_rownum\":29,\"petal_length\":1.5,\"petal_width\":0.1,\"predict_result\":\"setosa\",\"sepal_length\":5.2,\"sepal_width\":4.1},{\"_rownum\":30,\"petal_length\":1.5,\"petal_width\":0.1,\"predict_result\":\"setosa\",\"sepal_length\":4.9,\"sepal_width\":3.1},{\"_rownum\":31,\"petal_length\":1.5,\"petal_width\":0.1,\"predict_result\":\"setosa\",\"sepal_length\":4.9,\"sepal_width\":3.1},{\"_rownum\":32,\"petal_length\":4.2,\"petal_width\":1.5,\"predict_result\":\"versicolor\",\"sepal_length\":5.9,\"sepal_width\":3.0},{\"_rownum\":33,\"petal_length\":4.2,\"petal_width\":1.2,\"predict_result\":\"versicolor\",\"sepal_length\":5.7,\"sepal_width\":3.0},{\"_rownum\":34,\"petal_length\":4.2,\"petal_width\":1.3,\"predict_result\":\"versicolor\",\"sepal_length\":5.6,\"sepal_width\":2.7},{\"_rownum\":35,\"petal_length\":4.2,\"petal_width\":1.3,\"predict_result\":\"versicolor\",\"sepal_length\":5.7,\"sepal_width\":2.9},{\"_rownum\":36,\"petal_length\":4.7,\"petal_width\":1.5,\"predict_result\":\"versicolor\",\"sepal_length\":6.7,\"sepal_width\":3.1},{\"_rownum\":37,\"petal_length\":4.7,\"petal_width\":1.2,\"predict_result\":\"versicolor\",\"sepal_length\":6.1,\"sepal_width\":2.8},{\"_rownum\":38,\"petal_length\":4.7,\"petal_width\":1.4,\"predict_result\":\"versicolor\",\"sepal_length\":7.0,\"sepal_width\":3.2},{\"_rownum\":39,\"petal_length\":4.7,\"petal_width\":1.4,\"predict_result\":\"versicolor\",\"sepal_length\":6.1,\"sepal_width\":2.9},{\"_rownum\":40,\"petal_length\":4.7,\"petal_width\":1.6,\"predict_result\":\"versicolor\",\"sepal_length\":6.3,\"sepal_width\":3.3},{\"_rownum\":41,\"petal_length\":5.2,\"petal_width\":2.0,\"predict_result\":\"virginica\",\"sepal_length\":6.5,\"sepal_width\":3.0},{\"_rownum\":42,\"petal_length\":5.2,\"petal_width\":2.3,\"predict_result\":\"virginica\",\"sepal_length\":6.7,\"sepal_width\":3.0},{\"_rownum\":43,\"petal_length\":5.7,\"petal_width\":2.5,\"predict_result\":\"virginica\",\"sepal_length\":6.7,\"sepal_width\":3.3},{\"_rownum\":44,\"petal_length\":5.7,\"petal_width\":2.3,\"predict_result\":\"virginica\",\"sepal_length\":6.9,\"sepal_width\":3.2},{\"_rownum\":45,\"petal_length\":5.7,\"petal_width\":2.1,\"predict_result\":\"virginica\",\"sepal_length\":6.7,\"sepal_width\":3.3},{\"_rownum\":46,\"petal_length\":6.7,\"petal_width\":2.0,\"predict_result\":\"virginica\",\"sepal_length\":7.7,\"sepal_width\":2.8},{\"_rownum\":47,\"petal_length\":6.7,\"petal_width\":2.2,\"predict_result\":\"virginica\",\"sepal_length\":7.7,\"sepal_width\":3.8},{\"_rownum\":48,\"petal_length\":1.3,\"petal_width\":0.3,\"predict_result\":\"setosa\",\"sepal_length\":5.0,\"sepal_width\":3.5},{\"_rownum\":49,\"petal_length\":1.3,\"petal_width\":0.3,\"predict_result\":\"setosa\",\"sepal_length\":4.5,\"sepal_width\":2.3},{\"_rownum\":50,\"petal_length\":1.3,\"petal_width\":0.2,\"predict_result\":\"setosa\",\"sepal_length\":4.7,\"sepal_width\":3.2},{\"_rownum\":51,\"petal_length\":1.3,\"petal_width\":0.2,\"predict_result\":\"setosa\",\"sepal_length\":5.5,\"sepal_width\":3.5},{\"_rownum\":52,\"petal_length\":1.3,\"petal_width\":0.2,\"predict_result\":\"setosa\",\"sepal_length\":4.4,\"sepal_width\":3.0},{\"_rownum\":53,\"petal_length\":1.3,\"petal_width\":0.2,\"predict_result\":\"setosa\",\"sepal_length\":4.4,\"sepal_width\":3.2},{\"_rownum\":54,\"petal_length\":1.3,\"petal_width\":0.4,\"predict_result\":\"setosa\",\"sepal_length\":5.4,\"sepal_width\":3.9},{\"_rownum\":55,\"petal_length\":3.8,\"petal_width\":1.1,\"predict_result\":\"versicolor\",\"sepal_length\":5.5,\"sepal_width\":2.4},{\"_rownum\":56,\"petal_length\":4.1,\"petal_width\":1.0,\"predict_result\":\"versicolor\",\"sepal_length\":5.8,\"sepal_width\":2.7},{\"_rownum\":57,\"petal_length\":4.1,\"petal_width\":1.3,\"predict_result\":\"versicolor\",\"sepal_length\":5.6,\"sepal_width\":3.0},{\"_rownum\":58,\"petal_length\":4.1,\"petal_width\":1.3,\"predict_result\":\"versicolor\",\"sepal_length\":5.7,\"sepal_width\":2.8},{\"_rownum\":59,\"petal_length\":4.6,\"petal_width\":1.5,\"predict_result\":\"versicolor\",\"sepal_length\":6.5,\"sepal_width\":2.8},{\"_rownum\":60,\"petal_length\":4.6,\"petal_width\":1.4,\"predict_result\":\"versicolor\",\"sepal_length\":6.1,\"sepal_width\":3.0},{\"_rownum\":61,\"petal_length\":4.6,\"petal_width\":1.3,\"predict_result\":\"versicolor\",\"sepal_length\":6.6,\"sepal_width\":2.9},{\"_rownum\":62,\"petal_length\":5.1,\"petal_width\":2.0,\"predict_result\":\"virginica\",\"sepal_length\":6.5,\"sepal_width\":3.2},{\"_rownum\":63,\"petal_length\":5.1,\"petal_width\":1.5,\"predict_result\":\"versicolor\",\"sepal_length\":6.3,\"sepal_width\":2.8},{\"_rownum\":64,\"petal_length\":5.1,\"petal_width\":2.4,\"predict_result\":\"virginica\",\"sepal_length\":5.8,\"sepal_width\":2.8},{\"_rownum\":65,\"petal_length\":5.1,\"petal_width\":2.3,\"predict_result\":\"virginica\",\"sepal_length\":6.9,\"sepal_width\":3.1},{\"_rownum\":66,\"petal_length\":5.1,\"petal_width\":1.9,\"predict_result\":\"virginica\",\"sepal_length\":5.8,\"sepal_width\":2.7},{\"_rownum\":67,\"petal_length\":5.1,\"petal_width\":1.9,\"predict_result\":\"virginica\",\"sepal_length\":5.8,\"sepal_width\":2.7},{\"_rownum\":68,\"petal_length\":5.1,\"petal_width\":1.6,\"predict_result\":\"virginica\",\"sepal_length\":6.0,\"sepal_width\":2.7},{\"_rownum\":69,\"petal_length\":1.5,\"petal_width\":0.2,\"predict_result\":\"setosa\",\"sepal_length\":4.6,\"sepal_width\":3.1},{\"_rownum\":70,\"petal_length\":1.5,\"petal_width\":0.2,\"predict_result\":\"setosa\",\"sepal_length\":5.0,\"sepal_width\":3.4},{\"_rownum\":71,\"petal_length\":1.5,\"petal_width\":0.2,\"predict_result\":\"setosa\",\"sepal_length\":5.4,\"sepal_width\":3.7},{\"_rownum\":72,\"petal_length\":1.5,\"petal_width\":0.2,\"predict_result\":\"setosa\",\"sepal_length\":5.2,\"sepal_width\":3.5},{\"_rownum\":73,\"petal_length\":1.5,\"petal_width\":0.2,\"predict_result\":\"setosa\",\"sepal_length\":5.1,\"sepal_width\":3.4},{\"_rownum\":74,\"petal_length\":1.5,\"petal_width\":0.2,\"predict_result\":\"setosa\",\"sepal_length\":5.3,\"sepal_width\":3.7},{\"_rownum\":75,\"petal_length\":1.5,\"petal_width\":0.4,\"predict_result\":\"setosa\",\"sepal_length\":5.7,\"sepal_width\":4.4},{\"_rownum\":76,\"petal_length\":1.5,\"petal_width\":0.4,\"predict_result\":\"setosa\",\"sepal_length\":5.1,\"sepal_width\":3.7},{\"_rownum\":77,\"petal_length\":1.5,\"petal_width\":0.4,\"predict_result\":\"setosa\",\"sepal_length\":5.4,\"sepal_width\":3.4},{\"_rownum\":78,\"petal_length\":3.9,\"petal_width\":1.2,\"predict_result\":\"versicolor\",\"sepal_length\":5.8,\"sepal_width\":2.7},{\"_rownum\":79,\"petal_length\":3.9,\"petal_width\":1.4,\"predict_result\":\"versicolor\",\"sepal_length\":5.2,\"sepal_width\":2.7},{\"_rownum\":80,\"petal_length\":3.9,\"petal_width\":1.1,\"predict_result\":\"versicolor\",\"sepal_length\":5.6,\"sepal_width\":2.5},{\"_rownum\":81,\"petal_length\":4.3,\"petal_width\":1.3,\"predict_result\":\"versicolor\",\"sepal_length\":6.4,\"sepal_width\":2.9},{\"_rownum\":82,\"petal_length\":4.3,\"petal_width\":1.3,\"predict_result\":\"versicolor\",\"sepal_length\":6.2,\"sepal_width\":2.9},{\"_rownum\":83,\"petal_length\":4.8,\"petal_width\":1.4,\"predict_result\":\"versicolor\",\"sepal_length\":6.8,\"sepal_width\":2.8},{\"_rownum\":84,\"petal_length\":4.8,\"petal_width\":1.8,\"predict_result\":\"virginica\",\"sepal_length\":5.9,\"sepal_width\":3.2},{\"_rownum\":85,\"petal_length\":4.8,\"petal_width\":1.8,\"predict_result\":\"virginica\",\"sepal_length\":6.2,\"sepal_width\":2.8},{\"_rownum\":86,\"petal_length\":4.8,\"petal_width\":1.8,\"predict_result\":\"virginica\",\"sepal_length\":6.0,\"sepal_width\":3.0},{\"_rownum\":87,\"petal_length\":5.3,\"petal_width\":2.3,\"predict_result\":\"virginica\",\"sepal_length\":6.4,\"sepal_width\":3.2},{\"_rownum\":88,\"petal_length\":5.3,\"petal_width\":1.9,\"predict_result\":\"virginica\",\"sepal_length\":6.4,\"sepal_width\":2.7},{\"_rownum\":89,\"petal_length\":5.8,\"petal_width\":2.2,\"predict_result\":\"virginica\",\"sepal_length\":6.5,\"sepal_width\":3.0},{\"_rownum\":90,\"petal_length\":5.8,\"petal_width\":1.6,\"predict_result\":\"versicolor\",\"sepal_length\":7.2,\"sepal_width\":3.0},{\"_rownum\":91,\"petal_length\":5.8,\"petal_width\":1.8,\"predict_result\":\"virginica\",\"sepal_length\":6.7,\"sepal_width\":2.5},{\"_rownum\":92,\"petal_length\":6.3,\"petal_width\":1.8,\"predict_result\":\"virginica\",\"sepal_length\":7.3,\"sepal_width\":2.9},{\"_rownum\":93,\"petal_length\":1.2,\"petal_width\":0.2,\"predict_result\":\"setosa\",\"sepal_length\":5.8,\"sepal_width\":4.0},{\"_rownum\":94,\"petal_length\":1.2,\"petal_width\":0.2,\"predict_result\":\"setosa\",\"sepal_length\":5.0,\"sepal_width\":3.2},{\"_rownum\":95,\"petal_length\":1.7,\"petal_width\":0.5,\"predict_result\":\"setosa\",\"sepal_length\":5.1,\"sepal_width\":3.3},{\"_rownum\":96,\"petal_length\":1.7,\"petal_width\":0.3,\"predict_result\":\"setosa\",\"sepal_length\":5.7,\"sepal_width\":3.8},{\"_rownum\":97,\"petal_length\":1.7,\"petal_width\":0.2,\"predict_result\":\"setosa\",\"sepal_length\":5.4,\"sepal_width\":3.4},{\"_rownum\":98,\"petal_length\":1.7,\"petal_width\":0.4,\"predict_result\":\"setosa\",\"sepal_length\":5.4,\"sepal_width\":3.9},{\"_rownum\":99,\"petal_length\":3.3,\"petal_width\":1.0,\"predict_result\":\"versicolor\",\"sepal_length\":4.9,\"sepal_width\":2.4},{\"_rownum\":100,\"petal_length\":3.3,\"petal_width\":1.0,\"predict_result\":\"versicolor\",\"sepal_length\":5.0,\"sepal_width\":2.3}]",
      "select_fields_order": "[\"sepal_length\",\"sepal_width\",\"petal_length\",\"petal_width\",\"predict_result\"]"
     },
     "execution_count": 8,
     "metadata": {},
     "output_type": "execute_result"
    }
   ],
   "source": [
    "%%bksql\n",
    "select sepal_length, sepal_width,  petal_length, petal_width, \n",
    "    CASE WHEN predict_label=0.0 THEN 'versicolor'\n",
    "    WHEN predict_label=1.0 THEN 'virginica'\n",
    "    WHEN predict_label=2.0 THEN 'setosa' \n",
    "    ELSE '--' END AS predict_result\n",
    "from 591_iris_predict_result;"
   ]
  },
  {
   "cell_type": "markdown",
   "id": "6f4c6191a5cd42d4878db5acaf385eaa",
   "metadata": {},
   "source": [
    "### 6. 模型发布（可选）\n",
    "\n",
    "如果期望模型被周期性调度，可以对模型预测结果进行发布 。\n",
    "\n",
    "发布后的模型在平台 **我的模型** 页面可以找到，可以作为数据开发的一个处理节点，被数据开发任务周期性调度。"
   ]
  }
 ],
 "metadata": {
  "kernelspec": {
   "display_name": "Python 3",
   "language": "python",
   "name": "python3"
  },
  "language_info": {
   "codemirror_mode": {
    "name": "ipython",
    "version": 3
   },
   "file_extension": ".py",
   "mimetype": "text/x-python",
   "name": "python",
   "nbconvert_exporter": "python",
   "pygments_lexer": "ipython3",
   "version": "3.7.5"
  }
 },
 "nbformat": 4,
 "nbformat_minor": 5
}
