{
 "cells": [
  {
   "cell_type": "markdown",
   "metadata": {
    "ExecuteTime": {
     "end_time": "2020-04-02T01:48:44.453420Z",
     "start_time": "2020-04-02T01:48:43.847222Z"
    }
   },
   "source": [
    "<h1>What is a notebook？</h1>\n",
    " \n",
    "In the notebook, you can write and execute `Python code`, move the **data analysis work on the personal computer to the browser**, and at the same time:\n",
    "- No need to deploy environment, and use stronger server resources than personal computer configuration\n",
    "- Data query and notebook get through, no need to turn data multiple times\n",
    "- Use Pandas, Matplotlib, TenSorFlow to complete data analysis and machine learning \n",
    "- Project collaboration: the same project includes data exploration, data development, and process modeling\n",
    "\n",
    "Whether you are a **Python beginner**, **data analyst** or **data scientist**, notebook can help you complete data analysis tasks more easily. You can read the **Data Platform Help Document** for details, or check the getting started guide below!"
   ]
  },
  {
   "cell_type": "markdown",
   "metadata": {
    "ExecuteTime": {
     "end_time": "2020-04-04T07:09:44.671457Z",
     "start_time": "2020-04-04T07:09:44.074138Z"
    }
   },
   "source": [
    "## Getting started\n",
    "\n",
    "The document you are reading is not a static web page, but an interactive environment that allows you to **write and execute code**, called **notebook**.\n",
    "\n",
    "For example, the following `Code Cell` will output today's date, just like operating in the Python IDE."
   ]
  },
  {
   "cell_type": "code",
   "execution_count": 1,
   "metadata": {
    "ExecuteTime": {
     "end_time": "2020-06-05T08:22:15.856259Z",
     "start_time": "2020-06-05T08:22:15.852671Z"
    }
   },
   "outputs": [
    {
     "name": "stdout",
     "output_type": "stream",
     "text": [
      "20200605\n"
     ]
    }
   ],
   "source": [
    "import time\n",
    "today = time.strftime(\"%Y%m%d\", time.localtime())\n",
    "print(today)"
   ]
  },
  {
   "cell_type": "markdown",
   "metadata": {},
   "source": [
    "To execute the code in the above cell, click the run button on the left (shortcut key `Shift+Enter`).\n",
    "\n",
    "Of course, you can complete a simple calculation, such as approximately how many days in a lifetime"
   ]
  },
  {
   "cell_type": "code",
   "execution_count": 2,
   "metadata": {
    "ExecuteTime": {
     "end_time": "2020-06-05T08:22:17.118534Z",
     "start_time": "2020-06-05T08:22:17.108062Z"
    }
   },
   "outputs": [
    {
     "data": {
      "text/plain": [
       "29200"
      ]
     },
     "execution_count": 2,
     "metadata": {},
     "output_type": "execute_result"
    }
   ],
   "source": [
    "days_in_a_life= 365 * 80\n",
    "\n",
    "days_in_a_life"
   ]
  },
  {
   "cell_type": "markdown",
   "metadata": {
    "ExecuteTime": {
     "end_time": "2020-05-31T12:56:49.122253Z",
     "start_time": "2020-05-31T12:56:49.109242Z"
    }
   },
   "source": [
    "About how many hours in a lifetime\n",
    "\n",
    "> In the same notebook, you can reference variables"
   ]
  },
  {
   "cell_type": "code",
   "execution_count": 3,
   "metadata": {
    "ExecuteTime": {
     "end_time": "2020-06-05T08:22:18.751320Z",
     "start_time": "2020-06-05T08:22:18.747585Z"
    },
    "scrolled": true
   },
   "outputs": [
    {
     "data": {
      "text/plain": [
       "700800"
      ]
     },
     "execution_count": 3,
     "metadata": {},
     "output_type": "execute_result"
    }
   ],
   "source": [
    "hours_in_a_life = 24 * days_in_a_life\n",
    "\n",
    "hours_in_a_life"
   ]
  },
  {
   "cell_type": "markdown",
   "metadata": {},
   "source": [
    "You can combine **executable code**, **rich text**, and **images**, **HTML**, **LaTeX**, etc., into one document.\n",
    "\n",
    "You can use your notebook for data exploration under your personal, or you can edit your notebook under the project and collaborate with project members.\n",
    "\n",
    "The notebook are based on the [Jupyter](https://www.jupyter.org/) solution.\n",
    "\n",
    "Next, let's look at how to load the data of the result data table in the notebook."
   ]
  },
  {
   "cell_type": "markdown",
   "metadata": {},
   "source": [
    "\n",
    "## Retrieve data\n",
    "### Use SQL query in cell\n",
    "> Support to refer to the `variable` defined by the previous `Cell` in `Cell`"
   ]
  },
  {
   "cell_type": "code",
   "execution_count": 4,
   "metadata": {
    "ExecuteTime": {
     "end_time": "2020-06-05T08:22:31.858281Z",
     "start_time": "2020-06-05T08:22:23.560144Z"
    }
   },
   "outputs": [
    {
     "data": {
      "bk_chart": "query_table",
      "chart_config": "{}",
      "list": "[{\"method\": \"GET\", \"http_referer\": \"-\", \"body_bytes_sent\": 185, \"dtEventTime\": \"2020-06-05 20:40:33\", \"URI\": \"/portal\", \"status\": 301}, {\"method\": \"GET\", \"http_referer\": \"-\", \"body_bytes_sent\": 185, \"dtEventTime\": \"2020-06-05 20:40:32\", \"URI\": \"/portal\", \"status\": 301}, {\"method\": \"GET\", \"http_referer\": \"-\", \"body_bytes_sent\": 185, \"dtEventTime\": \"2020-06-05 20:40:32\", \"URI\": \"/portal\", \"status\": 301}]",
      "select_fields_order": "[\"status\", \"body_bytes_sent\", \"http_referer\", \"method\", \"URI\", \"dtEventTime\"]"
     },
     "execution_count": 4,
     "metadata": {},
     "output_type": "execute_result"
    }
   ],
   "source": [
    "%%bksql \n",
    "SELECT status, body_bytes_sent, http_referer, method, URI, dtEventTime\n",
    "       FROM 591_demo_nginx_access_log\n",
    "       WHERE thedate={today}\n",
    "    ORDER BY dtEventTime DESC LIMIT 3"
   ]
  },
  {
   "cell_type": "markdown",
   "metadata": {},
   "source": [
    "#### Quoting query results\n",
    "After executing the query statement, the query result set supports assignment to custom variables"
   ]
  },
  {
   "cell_type": "code",
   "execution_count": 5,
   "metadata": {
    "ExecuteTime": {
     "end_time": "2020-05-31T13:06:24.048114Z",
     "start_time": "2020-05-31T13:06:24.045360Z"
    }
   },
   "outputs": [],
   "source": [
    "result = _"
   ]
  },
  {
   "cell_type": "markdown",
   "metadata": {},
   "source": [
    "The custom variable `result` contains methods such as `dicts`, `DataFrame`, etc. to facilitate secondary processing of the result set"
   ]
  },
  {
   "cell_type": "code",
   "execution_count": 6,
   "metadata": {
    "ExecuteTime": {
     "end_time": "2020-08-03T12:51:55.406650Z",
     "start_time": "2020-08-03T12:51:55.252536Z"
    }
   },
   "outputs": [
    {
     "name": "stdout",
     "output_type": "stream",
     "text": [
      "{'method': 'GET', 'http_referer': '-', 'body_bytes_sent': 185, 'dtEventTime': '2020-06-05 20:40:33', 'URI': '/portal', 'status': 301}\n",
      "{'method': 'GET', 'http_referer': '-', 'body_bytes_sent': 185, 'dtEventTime': '2020-06-05 20:40:32', 'URI': '/portal', 'status': 301}\n",
      "{'method': 'GET', 'http_referer': '-', 'body_bytes_sent': 185, 'dtEventTime': '2020-06-05 20:40:32', 'URI': '/portal', 'status': 301}\n"
     ]
    }
   ],
   "source": [
    "for line in result.data:\n",
    "  print(line)"
   ]
  },
  {
   "cell_type": "code",
   "execution_count": 7,
   "metadata": {
    "ExecuteTime": {
     "end_time": "2020-05-31T13:07:00.393348Z",
     "start_time": "2020-05-31T13:07:00.387392Z"
    }
   },
   "outputs": [
    {
     "data": {
      "text/plain": [
       "Index(['status', 'body_bytes_sent', 'http_referer', 'method', 'URI',\n",
       "       'dtEventTime'],\n",
       "      dtype='object')"
      ]
     },
     "execution_count": 7,
     "metadata": {},
     "output_type": "execute_result"
    }
   ],
   "source": [
    "df = result.DataFrame()\n",
    "df.columns"
   ]
  },
  {
   "cell_type": "markdown",
   "metadata": {},
   "source": [
    "Of course, you can use `single-row SQL query` to assign the query result to a variable."
   ]
  },
  {
   "cell_type": "code",
   "execution_count": 8,
   "metadata": {
    "ExecuteTime": {
     "end_time": "2020-06-05T11:24:24.994113Z",
     "start_time": "2020-06-05T11:24:21.092764Z"
    }
   },
   "outputs": [
    {
     "data": {
      "bk_chart": "query_table",
      "chart_config": "{}",
      "list": "[{\"cnt\": 79488, \"URI\": \"/mall\"}, {\"cnt\": 69552, \"URI\": \"/\"}, {\"cnt\": 9936, \"URI\": \"/portal\"}, {\"cnt\": 4968, \"URI\": \"/bbs\"}]",
      "select_fields_order": "[\"URI\", \"cnt\"]"
     },
     "execution_count": 8,
     "metadata": {},
     "output_type": "execute_result"
    }
   ],
   "source": [
    "uri_group_result = %bksql SELECT URI, COUNT(*) AS cnt FROM 591_demo_nginx_access_log.hdfs WHERE thedate=current_date() GROUP BY URI ORDER BY cnt DESC LIMIT 10 \n",
    "\n",
    "uri_group_result"
   ]
  },
  {
   "cell_type": "markdown",
   "metadata": {},
   "source": [
    "### Reference query result set in data exploration\n",
    "\n",
    "The query result set of the data exploration query task can be used directly in the notebook, method: datasets('query_task_name')"
   ]
  },
  {
   "cell_type": "code",
   "execution_count": 9,
   "metadata": {
    "ExecuteTime": {
     "end_time": "2020-06-05T11:24:07.518070Z",
     "start_time": "2020-06-05T11:24:03.835789Z"
    },
    "scrolled": true
   },
   "outputs": [
    {
     "data": {
      "bk_chart": "query_table",
      "chart_config": "{}",
      "list": "[{\"cnt\": 79488, \"URI\": \"/mall\"}, {\"cnt\": 69592, \"URI\": \"/\"}, {\"cnt\": 9936, \"URI\": \"/portal\"}, {\"cnt\": 4968, \"URI\": \"/bbs\"}]",
      "select_fields_order": "[\"URI\", \"cnt\"]"
     },
     "execution_count": 9,
     "metadata": {},
     "output_type": "execute_result"
    }
   ],
   "source": [
    "day_pv_last_week = datasets('query_1')\n",
    "\n",
    "day_pv_last_week"
   ]
  },
  {
   "cell_type": "markdown",
   "metadata": {},
   "source": [
    "## Data science\n",
    "\n",
    "With the help of notebook, you can take advantage of the power of commonly used Python libraries to analyze and visualize data. The following `Code Cell` uses `NumPy` to generate some random data, and uses `Matplotlib` to visualize these data. To modify the code, just click on `Cell` and start to modify."
   ]
  },
  {
   "cell_type": "code",
   "execution_count": 10,
   "metadata": {
    "ExecuteTime": {
     "end_time": "2020-05-31T13:37:30.316507Z",
     "start_time": "2020-05-31T13:37:30.091352Z"
    }
   },
   "outputs": [
    {
     "data": {
      "image/png": "[encoded data removed]",
      "text/plain": [
       "<Figure size 720x480 with 1 Axes>"
      ]
     },
     "metadata": {
      "needs_background": "light"
     },
     "output_type": "display_data"
    }
   ],
   "source": [
    "import numpy as np\n",
    "from matplotlib import pyplot as plt\n",
    "\n",
    "ys = 100 + np.random.randn(100)\n",
    "x = [x for x in range(len(ys))]\n",
    "\n",
    "plt.plot(x, ys, '-')\n",
    "plt.fill_between(x, ys, 95, where=(ys > 95), facecolor='g', alpha=0.6)\n",
    "\n",
    "plt.title(\"Visualization Demo\")\n",
    "plt.show()"
   ]
  },
  {
   "cell_type": "markdown",
   "metadata": {},
   "source": [
    "## Machine learning\n",
    "\n",
    "With the help of notebook, you can use machine learning libraries such as `sklearn` and `tensorflow` to complete machine learning training."
   ]
  }
 ],
 "metadata": {
  "kernelspec": {
   "display_name": "Python 3",
   "language": "python",
   "name": "python3"
  },
  "language_info": {
   "codemirror_mode": {
    "name": "ipython",
    "version": 3
   },
   "file_extension": ".py",
   "mimetype": "text/x-python",
   "name": "python",
   "nbconvert_exporter": "python",
   "pygments_lexer": "ipython3",
   "version": "3.7.3"
  },
  "toc": {
   "base_numbering": 1,
   "nav_menu": {},
   "number_sections": true,
   "sideBar": true,
   "skip_h1_title": false,
   "title_cell": "Table of Contents",
   "title_sidebar": "Contents",
   "toc_cell": false,
   "toc_position": {},
   "toc_section_display": true,
   "toc_window_display": false
  },
  "varInspector": {
   "cols": {
    "lenName": 16,
    "lenType": 16,
    "lenVar": 40
   },
   "kernels_config": {
    "python": {
     "delete_cmd_postfix": "",
     "delete_cmd_prefix": "del ",
     "library": "var_list.py",
     "varRefreshCmd": "print(var_dic_list())"
    },
    "r": {
     "delete_cmd_postfix": ") ",
     "delete_cmd_prefix": "rm(",
     "library": "var_list.r",
     "varRefreshCmd": "cat(var_dic_list()) "
    }
   },
   "types_to_exclude": [
    "module",
    "function",
    "builtin_function_or_method",
    "instance",
    "_Feature"
   ],
   "window_display": false
  }
 },
 "nbformat": 4,
 "nbformat_minor": 5
}
